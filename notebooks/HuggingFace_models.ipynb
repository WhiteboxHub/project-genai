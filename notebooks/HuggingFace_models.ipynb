{
  "nbformat": 4,
  "nbformat_minor": 0,
  "metadata": {
    "colab": {
      "provenance": [],
      "gpuType": "T4"
    },
    "kernelspec": {
      "name": "python3",
      "display_name": "Python 3"
    },
    "language_info": {
      "name": "python"
    },
    "accelerator": "GPU",
    "widgets": {
      "application/vnd.jupyter.widget-state+json": {
        "908444227b49409ebb106a182d60b452": {
          "model_module": "@jupyter-widgets/controls",
          "model_name": "HBoxModel",
          "model_module_version": "1.5.0",
          "state": {
            "_dom_classes": [],
            "_model_module": "@jupyter-widgets/controls",
            "_model_module_version": "1.5.0",
            "_model_name": "HBoxModel",
            "_view_count": null,
            "_view_module": "@jupyter-widgets/controls",
            "_view_module_version": "1.5.0",
            "_view_name": "HBoxView",
            "box_style": "",
            "children": [
              "IPY_MODEL_4fab8b881f774944bb5dbea99def4862",
              "IPY_MODEL_8b2455a67c7b488f9100f0a18c136e32",
              "IPY_MODEL_baf8f66eb17c4fe6aeea3f7a0008082f"
            ],
            "layout": "IPY_MODEL_d4fc16da4a73488a81761b9e600ab197"
          }
        },
        "4fab8b881f774944bb5dbea99def4862": {
          "model_module": "@jupyter-widgets/controls",
          "model_name": "HTMLModel",
          "model_module_version": "1.5.0",
          "state": {
            "_dom_classes": [],
            "_model_module": "@jupyter-widgets/controls",
            "_model_module_version": "1.5.0",
            "_model_name": "HTMLModel",
            "_view_count": null,
            "_view_module": "@jupyter-widgets/controls",
            "_view_module_version": "1.5.0",
            "_view_name": "HTMLView",
            "description": "",
            "description_tooltip": null,
            "layout": "IPY_MODEL_1cc4adcfca814778977861cb30c0054c",
            "placeholder": "​",
            "style": "IPY_MODEL_e37ef7f5eca14de3a41b88c5ed3c98dd",
            "value": "Fetching 1 files: 100%"
          }
        },
        "8b2455a67c7b488f9100f0a18c136e32": {
          "model_module": "@jupyter-widgets/controls",
          "model_name": "FloatProgressModel",
          "model_module_version": "1.5.0",
          "state": {
            "_dom_classes": [],
            "_model_module": "@jupyter-widgets/controls",
            "_model_module_version": "1.5.0",
            "_model_name": "FloatProgressModel",
            "_view_count": null,
            "_view_module": "@jupyter-widgets/controls",
            "_view_module_version": "1.5.0",
            "_view_name": "ProgressView",
            "bar_style": "success",
            "description": "",
            "description_tooltip": null,
            "layout": "IPY_MODEL_278192e5e6be4e1399faf15e5216368e",
            "max": 1,
            "min": 0,
            "orientation": "horizontal",
            "style": "IPY_MODEL_436c26732b8a49d3a005b8ecf906042e",
            "value": 1
          }
        },
        "baf8f66eb17c4fe6aeea3f7a0008082f": {
          "model_module": "@jupyter-widgets/controls",
          "model_name": "HTMLModel",
          "model_module_version": "1.5.0",
          "state": {
            "_dom_classes": [],
            "_model_module": "@jupyter-widgets/controls",
            "_model_module_version": "1.5.0",
            "_model_name": "HTMLModel",
            "_view_count": null,
            "_view_module": "@jupyter-widgets/controls",
            "_view_module_version": "1.5.0",
            "_view_name": "HTMLView",
            "description": "",
            "description_tooltip": null,
            "layout": "IPY_MODEL_5096b2dfa3ee40828b81709c74346b2f",
            "placeholder": "​",
            "style": "IPY_MODEL_381c5e2a294d406884bb82949f992920",
            "value": " 1/1 [00:00&lt;00:00, 53.65it/s]"
          }
        },
        "d4fc16da4a73488a81761b9e600ab197": {
          "model_module": "@jupyter-widgets/base",
          "model_name": "LayoutModel",
          "model_module_version": "1.2.0",
          "state": {
            "_model_module": "@jupyter-widgets/base",
            "_model_module_version": "1.2.0",
            "_model_name": "LayoutModel",
            "_view_count": null,
            "_view_module": "@jupyter-widgets/base",
            "_view_module_version": "1.2.0",
            "_view_name": "LayoutView",
            "align_content": null,
            "align_items": null,
            "align_self": null,
            "border": null,
            "bottom": null,
            "display": null,
            "flex": null,
            "flex_flow": null,
            "grid_area": null,
            "grid_auto_columns": null,
            "grid_auto_flow": null,
            "grid_auto_rows": null,
            "grid_column": null,
            "grid_gap": null,
            "grid_row": null,
            "grid_template_areas": null,
            "grid_template_columns": null,
            "grid_template_rows": null,
            "height": null,
            "justify_content": null,
            "justify_items": null,
            "left": null,
            "margin": null,
            "max_height": null,
            "max_width": null,
            "min_height": null,
            "min_width": null,
            "object_fit": null,
            "object_position": null,
            "order": null,
            "overflow": null,
            "overflow_x": null,
            "overflow_y": null,
            "padding": null,
            "right": null,
            "top": null,
            "visibility": null,
            "width": null
          }
        },
        "1cc4adcfca814778977861cb30c0054c": {
          "model_module": "@jupyter-widgets/base",
          "model_name": "LayoutModel",
          "model_module_version": "1.2.0",
          "state": {
            "_model_module": "@jupyter-widgets/base",
            "_model_module_version": "1.2.0",
            "_model_name": "LayoutModel",
            "_view_count": null,
            "_view_module": "@jupyter-widgets/base",
            "_view_module_version": "1.2.0",
            "_view_name": "LayoutView",
            "align_content": null,
            "align_items": null,
            "align_self": null,
            "border": null,
            "bottom": null,
            "display": null,
            "flex": null,
            "flex_flow": null,
            "grid_area": null,
            "grid_auto_columns": null,
            "grid_auto_flow": null,
            "grid_auto_rows": null,
            "grid_column": null,
            "grid_gap": null,
            "grid_row": null,
            "grid_template_areas": null,
            "grid_template_columns": null,
            "grid_template_rows": null,
            "height": null,
            "justify_content": null,
            "justify_items": null,
            "left": null,
            "margin": null,
            "max_height": null,
            "max_width": null,
            "min_height": null,
            "min_width": null,
            "object_fit": null,
            "object_position": null,
            "order": null,
            "overflow": null,
            "overflow_x": null,
            "overflow_y": null,
            "padding": null,
            "right": null,
            "top": null,
            "visibility": null,
            "width": null
          }
        },
        "e37ef7f5eca14de3a41b88c5ed3c98dd": {
          "model_module": "@jupyter-widgets/controls",
          "model_name": "DescriptionStyleModel",
          "model_module_version": "1.5.0",
          "state": {
            "_model_module": "@jupyter-widgets/controls",
            "_model_module_version": "1.5.0",
            "_model_name": "DescriptionStyleModel",
            "_view_count": null,
            "_view_module": "@jupyter-widgets/base",
            "_view_module_version": "1.2.0",
            "_view_name": "StyleView",
            "description_width": ""
          }
        },
        "278192e5e6be4e1399faf15e5216368e": {
          "model_module": "@jupyter-widgets/base",
          "model_name": "LayoutModel",
          "model_module_version": "1.2.0",
          "state": {
            "_model_module": "@jupyter-widgets/base",
            "_model_module_version": "1.2.0",
            "_model_name": "LayoutModel",
            "_view_count": null,
            "_view_module": "@jupyter-widgets/base",
            "_view_module_version": "1.2.0",
            "_view_name": "LayoutView",
            "align_content": null,
            "align_items": null,
            "align_self": null,
            "border": null,
            "bottom": null,
            "display": null,
            "flex": null,
            "flex_flow": null,
            "grid_area": null,
            "grid_auto_columns": null,
            "grid_auto_flow": null,
            "grid_auto_rows": null,
            "grid_column": null,
            "grid_gap": null,
            "grid_row": null,
            "grid_template_areas": null,
            "grid_template_columns": null,
            "grid_template_rows": null,
            "height": null,
            "justify_content": null,
            "justify_items": null,
            "left": null,
            "margin": null,
            "max_height": null,
            "max_width": null,
            "min_height": null,
            "min_width": null,
            "object_fit": null,
            "object_position": null,
            "order": null,
            "overflow": null,
            "overflow_x": null,
            "overflow_y": null,
            "padding": null,
            "right": null,
            "top": null,
            "visibility": null,
            "width": null
          }
        },
        "436c26732b8a49d3a005b8ecf906042e": {
          "model_module": "@jupyter-widgets/controls",
          "model_name": "ProgressStyleModel",
          "model_module_version": "1.5.0",
          "state": {
            "_model_module": "@jupyter-widgets/controls",
            "_model_module_version": "1.5.0",
            "_model_name": "ProgressStyleModel",
            "_view_count": null,
            "_view_module": "@jupyter-widgets/base",
            "_view_module_version": "1.2.0",
            "_view_name": "StyleView",
            "bar_color": null,
            "description_width": ""
          }
        },
        "5096b2dfa3ee40828b81709c74346b2f": {
          "model_module": "@jupyter-widgets/base",
          "model_name": "LayoutModel",
          "model_module_version": "1.2.0",
          "state": {
            "_model_module": "@jupyter-widgets/base",
            "_model_module_version": "1.2.0",
            "_model_name": "LayoutModel",
            "_view_count": null,
            "_view_module": "@jupyter-widgets/base",
            "_view_module_version": "1.2.0",
            "_view_name": "LayoutView",
            "align_content": null,
            "align_items": null,
            "align_self": null,
            "border": null,
            "bottom": null,
            "display": null,
            "flex": null,
            "flex_flow": null,
            "grid_area": null,
            "grid_auto_columns": null,
            "grid_auto_flow": null,
            "grid_auto_rows": null,
            "grid_column": null,
            "grid_gap": null,
            "grid_row": null,
            "grid_template_areas": null,
            "grid_template_columns": null,
            "grid_template_rows": null,
            "height": null,
            "justify_content": null,
            "justify_items": null,
            "left": null,
            "margin": null,
            "max_height": null,
            "max_width": null,
            "min_height": null,
            "min_width": null,
            "object_fit": null,
            "object_position": null,
            "order": null,
            "overflow": null,
            "overflow_x": null,
            "overflow_y": null,
            "padding": null,
            "right": null,
            "top": null,
            "visibility": null,
            "width": null
          }
        },
        "381c5e2a294d406884bb82949f992920": {
          "model_module": "@jupyter-widgets/controls",
          "model_name": "DescriptionStyleModel",
          "model_module_version": "1.5.0",
          "state": {
            "_model_module": "@jupyter-widgets/controls",
            "_model_module_version": "1.5.0",
            "_model_name": "DescriptionStyleModel",
            "_view_count": null,
            "_view_module": "@jupyter-widgets/base",
            "_view_module_version": "1.2.0",
            "_view_name": "StyleView",
            "description_width": ""
          }
        }
      }
    }
  },
  "cells": [
    {
      "cell_type": "code",
      "execution_count": 39,
      "metadata": {
        "id": "QE8zI-ILLdVI"
      },
      "outputs": [],
      "source": [
        "                                                            # Text Generation Models"
      ]
    },
    {
      "cell_type": "code",
      "source": [
        "from transformers import pipeline"
      ],
      "metadata": {
        "id": "4j1pWLp0PzU-"
      },
      "execution_count": 3,
      "outputs": []
    },
    {
      "cell_type": "code",
      "source": [
        "text_generator_1 = pipeline(\"text-generation\", model=\"distilbert/distilgpt2\")\n",
        "response = text_generator_1(\"hi my name is sriramya,\")\n",
        "print(response)"
      ],
      "metadata": {
        "colab": {
          "base_uri": "https://localhost:8080/"
        },
        "id": "48QPPR0bQuRx",
        "outputId": "73ec21d0-56f1-47a0-a0c5-379435173407"
      },
      "execution_count": 20,
      "outputs": [
        {
          "output_type": "stream",
          "name": "stderr",
          "text": [
            "Device set to use cuda:0\n",
            "Setting `pad_token_id` to `eos_token_id`:50256 for open-end generation.\n"
          ]
        },
        {
          "output_type": "stream",
          "name": "stdout",
          "text": [
            "[{'generated_text': 'hi my name is sriramya, and the name of the house is katna, and the name of the house is dhayana, and the name of the house is katna, and the name of the house is dhayana, and the name of the house is dhayana, and the name of the house is dhayana, and the name of the house is dhayana, and the name of the house is dhayana, and the name of the house is dhayana, and the name of the house is dhayana, and the name of the house is dhayana, and the name of the house is dhayana, and the name of the house is dhayana, and the name of the house is dhayana, and the name of the house is dhayana, and the name of the house is dhayana, and the name of the house is dhayana, and the name of the house is dhayana, and the name of the house is dhayana, and the name of the house is dhayana, and the name of the house is dhayana, and the name of the house is dhayana, and the name of the house is dhayana, and the name'}]\n"
          ]
        }
      ]
    },
    {
      "cell_type": "code",
      "metadata": {
        "colab": {
          "base_uri": "https://localhost:8080/"
        },
        "id": "50739ee3",
        "outputId": "97d4b1c0-d9be-4512-d2f7-4b2265f08f77"
      },
      "source": [
        "text_generator_2 = pipeline(\"text-generation\", model=\"gpt2-medium\")\n",
        "response = text_generator_2(\"iam going to do simple project\")\n",
        "print(response[0]['generated_text'])"
      ],
      "execution_count": 23,
      "outputs": [
        {
          "output_type": "stream",
          "name": "stderr",
          "text": [
            "Device set to use cuda:0\n",
            "Setting `pad_token_id` to `eos_token_id`:50256 for open-end generation.\n"
          ]
        },
        {
          "output_type": "stream",
          "name": "stdout",
          "text": [
            "iam going to do simple project like \"let's add some new features\" and then you can go back to add some more.\n"
          ]
        }
      ]
    },
    {
      "cell_type": "code",
      "source": [
        "text_generator_3 = pipeline(\"text-generation\", model=\"Qwen/Qwen3-0.6B\")\n",
        "messages = [\n",
        "    {\"role\": \"user\", \"content\": \"Who are you?\"},\n",
        "]\n",
        "text_generator_3(messages[0]['content'])"
      ],
      "metadata": {
        "colab": {
          "base_uri": "https://localhost:8080/"
        },
        "id": "DrLhaNi_WyxB",
        "outputId": "fb68ecbf-e7f0-4ce3-cb9e-30547ddb1372"
      },
      "execution_count": 31,
      "outputs": [
        {
          "output_type": "stream",
          "name": "stderr",
          "text": [
            "Device set to use cuda:0\n"
          ]
        },
        {
          "output_type": "execute_result",
          "data": {
            "text/plain": [
              "[{'generated_text': 'Who are you? What is your role in the field of science?\\n\\nWhat is your role in the field of science?\\n\\nAs a researcher, I am dedicated to advancing scientific knowledge through rigorous investigation and exploration. My work focuses on various scientific disciplines, and I aim to contribute to the understanding of complex phenomena in the real world. I am an active participant in scientific discussions and seek to foster collaboration and innovation in the field.\\n\\nAs a researcher, I am committed to contributing to the field of science by pursuing knowledge and fostering scientific inquiry. My role is to contribute to the advancement of scientific understanding through research, experimentation, and collaboration with other scientists.\\n\\nAs a researcher, I am dedicated to exploring and contributing to the field of science through my work in various disciplines. My role is to contribute to the field by investigating and sharing knowledge.\\n\\nAs a researcher, I am focused on exploring and contributing to the field of science through my work in various disciplines. My role is to contribute to the field by investigating and sharing knowledge.\\n\\nAs a researcher, I am focused on exploring and contributing to the field of science through my work in various disciplines. My role is to contribute to the field by investigating and sharing knowledge.\\n\\nAs a researcher, I am dedicated to contributing to the field of science through my work in various disciplines.'}]"
            ]
          },
          "metadata": {},
          "execution_count": 31
        }
      ]
    },
    {
      "cell_type": "code",
      "source": [
        "#openai\n",
        "text_generator_4 = pipeline(\"text-generation\", model=\"openai-community/gpt2\")\n",
        "response = text_generator_4(\"iam going to do masters\")\n",
        "print(response[0]['generated_text'])"
      ],
      "metadata": {
        "colab": {
          "base_uri": "https://localhost:8080/"
        },
        "id": "LC54azYFXJvs",
        "outputId": "c5e2ff31-da88-4f43-d87c-a9b3f4b10777"
      },
      "execution_count": 34,
      "outputs": [
        {
          "output_type": "stream",
          "name": "stderr",
          "text": [
            "Device set to use cuda:0\n",
            "Setting `pad_token_id` to `eos_token_id`:50256 for open-end generation.\n"
          ]
        },
        {
          "output_type": "stream",
          "name": "stdout",
          "text": [
            "iam going to do masters of ceremonies in the same way that he did his first master of ceremonies at St. Mary's in the year 1803.\n",
            "\n",
            "The next year, he gave the first sermon at St. Mary's, and preached some verses from this book.\n",
            "\n",
            "In 1809, he completed his first sermon at St. Mary's. I was not able to find any further information on the sermon at that time. If he had done so, he would have been able to explain the same thing.\n",
            "\n",
            "In 1812, after he had finished his first sermon at St. Mary's, he gave its first translation. He could not show the translation in the book, and there was no mention of it in his book.\n",
            "\n",
            "He wrote his first sermon at St. Mary's, and preached some verses from it.\n",
            "\n",
            "In 1813, he was assigned to the order of the Order of the Royal Archdiocese. He was instructed to preach at St. Mary's, after which he was assigned to the Order of the Royal Archdiocese.\n",
            "\n",
            "He began his first sermon at St. Mary's in 1814. He preached some verses from it.\n",
            "\n",
            "In 1815, he became the second pastor at the cathedral of St. Mary's\n"
          ]
        }
      ]
    },
    {
      "cell_type": "code",
      "source": [
        "#\n",
        "text_generator_5 = pipeline(\"text-generation\", model=\"LiquidAI/LFM2-350M\")\n",
        "messages = [\n",
        "    {\"role\": \"user\", \"content\": \"How is the weather today in USA\"},\n",
        "]\n",
        "text_generator_5(messages)\n"
      ],
      "metadata": {
        "colab": {
          "base_uri": "https://localhost:8080/"
        },
        "id": "L4IEx0EIYotg",
        "outputId": "e863219c-3707-42b4-828a-3cfc5bb79706"
      },
      "execution_count": 38,
      "outputs": [
        {
          "output_type": "stream",
          "name": "stderr",
          "text": [
            "Device set to use cuda:0\n"
          ]
        },
        {
          "output_type": "execute_result",
          "data": {
            "text/plain": [
              "[{'generated_text': 'How is the weather today in USA?\\n* a) Stormy with clear skies\\n* b) Sunny and warm\\n* c) Cold and rainy\\n* d) No weather reported\\n\\n**Answer: b) Sunny and warm**\\n\\nWhich of these factors is LEAST likely to contribute to a heatwave?\\n\\n* a) High humidity\\n* b) Low wind speeds\\n* c) Proximity to mountains\\n* d) Low-pressure system\\n\\n**Answer: b) Low wind speeds**\\n\\nWhat is the primary cause of El Niño?\\n* a) Volcanic eruptions\\n* b) Changes in ocean temperature\\n* c) Solar flares\\n* d) Deforestation\\n\\n**Answer: b) Changes in ocean temperature**\\n\\nWhat is the main difference between weather and climate?\\n* a) Weather is short-term, climate is long-term\\n* b) Weather is measured in degrees Celsius, climate is measured in inches\\n* c) Weather is predictable, climate is not\\n* d) Weather happens in one location, climate is global\\n\\n**Answer: a) Weather is short-term, climate is long-term**\\n\\nWhat does the term \"tidal height\" refer to?\\n* a) The difference in water level between high and low tides\\n* b'}]"
            ]
          },
          "metadata": {},
          "execution_count": 38
        }
      ]
    },
    {
      "cell_type": "code",
      "source": [
        "text_generator_6 = pipeline(\"text-generation\", model=\"HuggingFaceTB/SmolLM2-135M-Instruct\")\n",
        "messages = [\n",
        "    {\"role\": \"user\", \"content\": \"Tell me a short story.\"},\n",
        "]\n",
        "response = text_generator_6(messages)\n",
        "print(response[0]['generated_text'])\n"
      ],
      "metadata": {
        "colab": {
          "base_uri": "https://localhost:8080/"
        },
        "id": "OBSzprGYbD7r",
        "outputId": "63c949f5-7738-4842-c6ca-ec453b0e1cbb"
      },
      "execution_count": 48,
      "outputs": [
        {
          "output_type": "stream",
          "name": "stderr",
          "text": [
            "Device set to use cuda:0\n"
          ]
        },
        {
          "output_type": "stream",
          "name": "stdout",
          "text": [
            "[{'role': 'user', 'content': 'Tell me a short story.'}, {'role': 'assistant', 'content': '\"The sun was setting over the vast expanse of the desert, casting an ethereal glow over the horizon. The air was crisp and clean, with only a few wisps of dust clinging to the ground. I was standing at a small stream, watching the sun rise over the desert, its light dancing across the water. As the sun began its descent, I felt the warmth spread over me.\\n\\nI was a young man, fresh out of college, eager to explore the unknown. I had been studying for months, pouring over the ancient texts that had guided me through the desert years. It was a daunting task, but I was determined to see it through.\\n\\nAs the sun dipped lower, I felt a sense of calm wash over me. The desert was a place of mystery, of secrets and stories waiting to be uncovered. I felt an invitation, a sense of belonging that came with exploring the vast expanse of the unknown.\\n\\nI made my way down the stream, my footsteps echoing off the sand. The water was calm, and the sound of the stream carried on the breeze. I watched as the sun dipped below the horizon, casting long shadows across the desert floor.\\n\\nAs the sun dipped below the horizon, the sand began to'}]\n"
          ]
        }
      ]
    },
    {
      "cell_type": "code",
      "source": [
        "                   #image-to-text"
      ],
      "metadata": {
        "id": "37aiTqpU2eG8"
      },
      "execution_count": 55,
      "outputs": []
    },
    {
      "cell_type": "code",
      "source": [
        "img_text = pipeline(\"image-to-text\", model=\"Salesforce/blip-image-captioning-base\", device='cpu')\n",
        "\n",
        "# Test image\n",
        "url = \"https://huggingface.co/datasets/huggingface/documentation-images/resolve/main/bee.jpg\"\n",
        "result = img_text(url)\n",
        "\n",
        "print(\"Generated Caption:\", result[0]['generated_text'])"
      ],
      "metadata": {
        "colab": {
          "base_uri": "https://localhost:8080/"
        },
        "id": "lwmfQ391djKH",
        "outputId": "e36d7f08-44c3-4079-e864-0ad4c7d56607"
      },
      "execution_count": 56,
      "outputs": [
        {
          "output_type": "stream",
          "name": "stderr",
          "text": [
            "/usr/local/lib/python3.12/dist-packages/transformers/models/auto/modeling_auto.py:2199: FutureWarning: The class `AutoModelForVision2Seq` is deprecated and will be removed in v5.0. Please use `AutoModelForImageTextToText` instead.\n",
            "  warnings.warn(\n",
            "Device set to use cpu\n"
          ]
        },
        {
          "output_type": "stream",
          "name": "stdout",
          "text": [
            "Generated Caption: a bee is sitting on a flower\n"
          ]
        }
      ]
    },
    {
      "cell_type": "code",
      "source": [
        "                  #audio to text"
      ],
      "metadata": {
        "id": "nba5L7WOnMoz"
      },
      "execution_count": null,
      "outputs": []
    },
    {
      "cell_type": "code",
      "source": [
        "aud_text = pipeline(\"automatic-speech-recognition\", model=\"openai/whisper-base\", device='cpu')\n",
        "# Using a publicly available audio sample URL that is a direct download link\n",
        "audio_url = \"harvard.wav\"\n",
        "result = aud_text(audio_url, return_timestamps=True)\n",
        "print(result[\"text\"])"
      ],
      "metadata": {
        "colab": {
          "base_uri": "https://localhost:8080/",
          "height": 121,
          "referenced_widgets": [
            "908444227b49409ebb106a182d60b452",
            "4fab8b881f774944bb5dbea99def4862",
            "8b2455a67c7b488f9100f0a18c136e32",
            "baf8f66eb17c4fe6aeea3f7a0008082f",
            "d4fc16da4a73488a81761b9e600ab197",
            "1cc4adcfca814778977861cb30c0054c",
            "e37ef7f5eca14de3a41b88c5ed3c98dd",
            "278192e5e6be4e1399faf15e5216368e",
            "436c26732b8a49d3a005b8ecf906042e",
            "5096b2dfa3ee40828b81709c74346b2f",
            "381c5e2a294d406884bb82949f992920"
          ]
        },
        "id": "6M9Z_M_Nm4IL",
        "outputId": "bbdc42e9-3c4c-4d06-d235-57ab6d121b78"
      },
      "execution_count": 6,
      "outputs": [
        {
          "output_type": "display_data",
          "data": {
            "text/plain": [
              "Fetching 1 files:   0%|          | 0/1 [00:00<?, ?it/s]"
            ],
            "application/vnd.jupyter.widget-view+json": {
              "version_major": 2,
              "version_minor": 0,
              "model_id": "908444227b49409ebb106a182d60b452"
            }
          },
          "metadata": {}
        },
        {
          "output_type": "stream",
          "name": "stderr",
          "text": [
            "Device set to use cpu\n",
            "`return_token_timestamps` is deprecated for WhisperFeatureExtractor and will be removed in Transformers v5. Use `return_attention_mask` instead, as the number of frames can be inferred from it.\n"
          ]
        },
        {
          "output_type": "stream",
          "name": "stdout",
          "text": [
            " The stale smell of old beer lingers. It takes heat to bring out the odor. A cold dip restores health and zest. A salt pickle tastes fine with ham. Tacos al pastor are my favorite. A zestful food is the hot cross bun.\n"
          ]
        }
      ]
    }
  ]
}