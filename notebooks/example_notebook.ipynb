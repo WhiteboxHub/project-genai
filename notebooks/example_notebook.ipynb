{
 "cells": [
  {
   "cell_type": "markdown",
   "id": "eb5672c3",
   "metadata": {},
   "source": [
    "Decoder-Only Models"
   ]
  },
  {
   "cell_type": "markdown",
   "id": "4754df32",
   "metadata": {},
   "source": [
    "Gemma"
   ]
  },
  {
   "cell_type": "code",
   "execution_count": 3,
   "id": "6da42f86",
   "metadata": {},
   "outputs": [
    {
     "name": "stdout",
     "output_type": "stream",
     "text": [
      "Requirement already satisfied: pillow in /Users/harman/git_projects/project-genai/venv/lib/python3.13/site-packages (11.3.0)\n",
      "Requirement already satisfied: transformers in /Users/harman/git_projects/project-genai/venv/lib/python3.13/site-packages (4.56.0)\n",
      "Requirement already satisfied: ipywidgets in /Users/harman/git_projects/project-genai/venv/lib/python3.13/site-packages (8.1.7)\n",
      "Requirement already satisfied: filelock in /Users/harman/git_projects/project-genai/venv/lib/python3.13/site-packages (from transformers) (3.19.1)\n",
      "Requirement already satisfied: huggingface-hub<1.0,>=0.34.0 in /Users/harman/git_projects/project-genai/venv/lib/python3.13/site-packages (from transformers) (0.34.4)\n",
      "Requirement already satisfied: numpy>=1.17 in /Users/harman/git_projects/project-genai/venv/lib/python3.13/site-packages (from transformers) (2.3.2)\n",
      "Requirement already satisfied: packaging>=20.0 in /Users/harman/git_projects/project-genai/venv/lib/python3.13/site-packages (from transformers) (25.0)\n",
      "Requirement already satisfied: pyyaml>=5.1 in /Users/harman/git_projects/project-genai/venv/lib/python3.13/site-packages (from transformers) (6.0.2)\n",
      "Requirement already satisfied: regex!=2019.12.17 in /Users/harman/git_projects/project-genai/venv/lib/python3.13/site-packages (from transformers) (2025.9.1)\n",
      "Requirement already satisfied: requests in /Users/harman/git_projects/project-genai/venv/lib/python3.13/site-packages (from transformers) (2.32.5)\n",
      "Requirement already satisfied: tokenizers<=0.23.0,>=0.22.0 in /Users/harman/git_projects/project-genai/venv/lib/python3.13/site-packages (from transformers) (0.22.0)\n",
      "Requirement already satisfied: safetensors>=0.4.3 in /Users/harman/git_projects/project-genai/venv/lib/python3.13/site-packages (from transformers) (0.6.2)\n",
      "Requirement already satisfied: tqdm>=4.27 in /Users/harman/git_projects/project-genai/venv/lib/python3.13/site-packages (from transformers) (4.67.1)\n",
      "Requirement already satisfied: fsspec>=2023.5.0 in /Users/harman/git_projects/project-genai/venv/lib/python3.13/site-packages (from huggingface-hub<1.0,>=0.34.0->transformers) (2025.9.0)\n",
      "Requirement already satisfied: typing-extensions>=3.7.4.3 in /Users/harman/git_projects/project-genai/venv/lib/python3.13/site-packages (from huggingface-hub<1.0,>=0.34.0->transformers) (4.15.0)\n",
      "Requirement already satisfied: hf-xet<2.0.0,>=1.1.3 in /Users/harman/git_projects/project-genai/venv/lib/python3.13/site-packages (from huggingface-hub<1.0,>=0.34.0->transformers) (1.1.9)\n",
      "Requirement already satisfied: comm>=0.1.3 in /Users/harman/git_projects/project-genai/venv/lib/python3.13/site-packages (from ipywidgets) (0.2.3)\n",
      "Requirement already satisfied: ipython>=6.1.0 in /Users/harman/git_projects/project-genai/venv/lib/python3.13/site-packages (from ipywidgets) (9.5.0)\n",
      "Requirement already satisfied: traitlets>=4.3.1 in /Users/harman/git_projects/project-genai/venv/lib/python3.13/site-packages (from ipywidgets) (5.14.3)\n",
      "Requirement already satisfied: widgetsnbextension~=4.0.14 in /Users/harman/git_projects/project-genai/venv/lib/python3.13/site-packages (from ipywidgets) (4.0.14)\n",
      "Requirement already satisfied: jupyterlab_widgets~=3.0.15 in /Users/harman/git_projects/project-genai/venv/lib/python3.13/site-packages (from ipywidgets) (3.0.15)\n",
      "Requirement already satisfied: decorator in /Users/harman/git_projects/project-genai/venv/lib/python3.13/site-packages (from ipython>=6.1.0->ipywidgets) (5.2.1)\n",
      "Requirement already satisfied: ipython-pygments-lexers in /Users/harman/git_projects/project-genai/venv/lib/python3.13/site-packages (from ipython>=6.1.0->ipywidgets) (1.1.1)\n",
      "Requirement already satisfied: jedi>=0.16 in /Users/harman/git_projects/project-genai/venv/lib/python3.13/site-packages (from ipython>=6.1.0->ipywidgets) (0.19.2)\n",
      "Requirement already satisfied: matplotlib-inline in /Users/harman/git_projects/project-genai/venv/lib/python3.13/site-packages (from ipython>=6.1.0->ipywidgets) (0.1.7)\n",
      "Requirement already satisfied: pexpect>4.3 in /Users/harman/git_projects/project-genai/venv/lib/python3.13/site-packages (from ipython>=6.1.0->ipywidgets) (4.9.0)\n",
      "Requirement already satisfied: prompt_toolkit<3.1.0,>=3.0.41 in /Users/harman/git_projects/project-genai/venv/lib/python3.13/site-packages (from ipython>=6.1.0->ipywidgets) (3.0.52)\n",
      "Requirement already satisfied: pygments>=2.4.0 in /Users/harman/git_projects/project-genai/venv/lib/python3.13/site-packages (from ipython>=6.1.0->ipywidgets) (2.19.2)\n",
      "Requirement already satisfied: stack_data in /Users/harman/git_projects/project-genai/venv/lib/python3.13/site-packages (from ipython>=6.1.0->ipywidgets) (0.6.3)\n",
      "Requirement already satisfied: wcwidth in /Users/harman/git_projects/project-genai/venv/lib/python3.13/site-packages (from prompt_toolkit<3.1.0,>=3.0.41->ipython>=6.1.0->ipywidgets) (0.2.13)\n",
      "Requirement already satisfied: parso<0.9.0,>=0.8.4 in /Users/harman/git_projects/project-genai/venv/lib/python3.13/site-packages (from jedi>=0.16->ipython>=6.1.0->ipywidgets) (0.8.5)\n",
      "Requirement already satisfied: ptyprocess>=0.5 in /Users/harman/git_projects/project-genai/venv/lib/python3.13/site-packages (from pexpect>4.3->ipython>=6.1.0->ipywidgets) (0.7.0)\n",
      "Requirement already satisfied: charset_normalizer<4,>=2 in /Users/harman/git_projects/project-genai/venv/lib/python3.13/site-packages (from requests->transformers) (3.4.3)\n",
      "Requirement already satisfied: idna<4,>=2.5 in /Users/harman/git_projects/project-genai/venv/lib/python3.13/site-packages (from requests->transformers) (3.10)\n",
      "Requirement already satisfied: urllib3<3,>=1.21.1 in /Users/harman/git_projects/project-genai/venv/lib/python3.13/site-packages (from requests->transformers) (2.5.0)\n",
      "Requirement already satisfied: certifi>=2017.4.17 in /Users/harman/git_projects/project-genai/venv/lib/python3.13/site-packages (from requests->transformers) (2025.8.3)\n",
      "Requirement already satisfied: executing>=1.2.0 in /Users/harman/git_projects/project-genai/venv/lib/python3.13/site-packages (from stack_data->ipython>=6.1.0->ipywidgets) (2.2.1)\n",
      "Requirement already satisfied: asttokens>=2.1.0 in /Users/harman/git_projects/project-genai/venv/lib/python3.13/site-packages (from stack_data->ipython>=6.1.0->ipywidgets) (3.0.0)\n",
      "Requirement already satisfied: pure-eval in /Users/harman/git_projects/project-genai/venv/lib/python3.13/site-packages (from stack_data->ipython>=6.1.0->ipywidgets) (0.2.3)\n",
      "Note: you may need to restart the kernel to use updated packages.\n"
     ]
    }
   ],
   "source": [
    "pip install pillow transformers ipywidgets"
   ]
  },
  {
   "cell_type": "code",
   "execution_count": 4,
   "id": "a0d77010",
   "metadata": {},
   "outputs": [
    {
     "name": "stdout",
     "output_type": "stream",
     "text": [
      "Looking in indexes: https://pypi.org/simple, https://download.pytorch.org/whl/nightly/cpu\n",
      "Requirement already satisfied: torch in /Users/harman/git_projects/project-genai/venv/lib/python3.13/site-packages (2.9.0.dev20250903)\n",
      "Requirement already satisfied: torchvision in /Users/harman/git_projects/project-genai/venv/lib/python3.13/site-packages (0.24.0.dev20250903)\n",
      "Requirement already satisfied: torchaudio in /Users/harman/git_projects/project-genai/venv/lib/python3.13/site-packages (2.8.0.dev20250903)\n",
      "Requirement already satisfied: filelock in /Users/harman/git_projects/project-genai/venv/lib/python3.13/site-packages (from torch) (3.19.1)\n",
      "Requirement already satisfied: typing-extensions>=4.10.0 in /Users/harman/git_projects/project-genai/venv/lib/python3.13/site-packages (from torch) (4.15.0)\n",
      "Requirement already satisfied: setuptools in /Users/harman/git_projects/project-genai/venv/lib/python3.13/site-packages (from torch) (80.9.0)\n",
      "Requirement already satisfied: sympy>=1.13.3 in /Users/harman/git_projects/project-genai/venv/lib/python3.13/site-packages (from torch) (1.14.0)\n",
      "Requirement already satisfied: networkx>=2.5.1 in /Users/harman/git_projects/project-genai/venv/lib/python3.13/site-packages (from torch) (3.5)\n",
      "Requirement already satisfied: jinja2 in /Users/harman/git_projects/project-genai/venv/lib/python3.13/site-packages (from torch) (3.1.6)\n",
      "Requirement already satisfied: fsspec>=0.8.5 in /Users/harman/git_projects/project-genai/venv/lib/python3.13/site-packages (from torch) (2025.9.0)\n",
      "Requirement already satisfied: numpy in /Users/harman/git_projects/project-genai/venv/lib/python3.13/site-packages (from torchvision) (2.3.2)\n",
      "Requirement already satisfied: pillow!=8.3.*,>=5.3.0 in /Users/harman/git_projects/project-genai/venv/lib/python3.13/site-packages (from torchvision) (11.3.0)\n",
      "Requirement already satisfied: mpmath<1.4,>=1.1.0 in /Users/harman/git_projects/project-genai/venv/lib/python3.13/site-packages (from sympy>=1.13.3->torch) (1.3.0)\n",
      "Requirement already satisfied: MarkupSafe>=2.0 in /Users/harman/git_projects/project-genai/venv/lib/python3.13/site-packages (from jinja2->torch) (3.0.2)\n",
      "Note: you may need to restart the kernel to use updated packages.\n"
     ]
    }
   ],
   "source": [
    "pip install --pre torch torchvision torchaudio --extra-index-url https://download.pytorch.org/whl/nightly/cpu"
   ]
  },
  {
   "cell_type": "code",
   "execution_count": 8,
   "id": "c6499199",
   "metadata": {},
   "outputs": [
    {
     "name": "stderr",
     "output_type": "stream",
     "text": [
      "Device set to use mps\n"
     ]
    },
    {
     "data": {
      "text/plain": [
       "[{'generated_text': 'Tell me a story in 5 lines.\\n\\n(5 lines)\\n1. Give a name to the person you are telling about\\n2. Tell him or her what is his/her name\\n3. Give a description of the person\\n4. Tell me what is the person’s name like\\n5. Tell me how the person looks like\\n6. Tell me what his/her hobbies are\\n7. Tell me what his/her favorite TV shows are\\n8. Tell me what he/she likes to do\\n9. Tell me what he/she likes to do in a day\\n10. Tell me what he/she likes to do in a week\\n11. Tell me what he/she likes to do in a month\\n12. Tell me what he/she likes to do in a year\\n13. Tell me what he/she likes to do in a decade\\n\\n(5 lines)\\n1. Give a name to the person you are telling about\\n2. Tell him or her what is his/her name like\\n3. Give a description of the person\\n4. Tell me what is the person’s name like\\n5. Tell me how the person looks like\\n6. Tell me what his/her hobbies are\\n7.'}]"
      ]
     },
     "execution_count": 8,
     "metadata": {},
     "output_type": "execute_result"
    }
   ],
   "source": [
    "# Use a pipeline as a high-level helper\n",
    "from transformers import pipeline\n",
    "import torch\n",
    "\n",
    "pipe = pipeline(\"text-generation\", model=\"google/gemma-3-270m\", device=torch.device(\"mps\"))\n",
    "pipe(\"Tell me a story in 5 lines.\")"
   ]
  },
  {
   "cell_type": "code",
   "execution_count": null,
   "id": "b3a21aa1",
   "metadata": {},
   "outputs": [],
   "source": [
    "from huggingface_hub import login\n",
    "login()"
   ]
  },
  {
   "cell_type": "code",
   "execution_count": null,
   "id": "7f30dd4e",
   "metadata": {},
   "outputs": [],
   "source": [
    "import os\n",
    "del os.environ['HF_TOKEN']"
   ]
  },
  {
   "cell_type": "code",
   "execution_count": null,
   "id": "9b4e043d",
   "metadata": {},
   "outputs": [],
   "source": [
    "import os\n",
    "os.environ['PYTORCH_MPS_HIGH_WATERMARK_RATIO'] = '0.0'\n",
    "print(os.environ['PYTORCH_MPS_HIGH_WATERMARK_RATIO'])"
   ]
  },
  {
   "cell_type": "code",
   "execution_count": 9,
   "id": "85a7dbe9",
   "metadata": {},
   "outputs": [
    {
     "name": "stderr",
     "output_type": "stream",
     "text": [
      "/Users/harman/git_projects/project-genai/venv/lib/python3.13/site-packages/transformers/pipelines/__init__.py:1206: UserWarning: \"translation\" task was used, instead of \"translation_XX_to_YY\", defaulting to \"translation_en_to_de\"\n",
      "  warnings.warn(\n",
      "Device set to use mps:0\n"
     ]
    }
   ],
   "source": [
    "pipe = pipeline(\"translation\", model=\"google-t5/t5-small\")"
   ]
  },
  {
   "cell_type": "code",
   "execution_count": 10,
   "id": "d5122bca",
   "metadata": {},
   "outputs": [
    {
     "name": "stdout",
     "output_type": "stream",
     "text": [
      "Cum sunteţi?\n"
     ]
    }
   ],
   "source": [
    "# Define the message with the required prefix\n",
    "message = \"translate English to Romanian: how are you?\"\n",
    "# Pass the message to the pipeline\n",
    "result = pipe(message)\n",
    "\n",
    "# Print the translated text\n",
    "print(result[0]['translation_text'])"
   ]
  }
 ],
 "metadata": {
  "kernelspec": {
   "display_name": "venv",
   "language": "python",
   "name": "python3"
  },
  "language_info": {
   "codemirror_mode": {
    "name": "ipython",
    "version": 3
   },
   "file_extension": ".py",
   "mimetype": "text/x-python",
   "name": "python",
   "nbconvert_exporter": "python",
   "pygments_lexer": "ipython3",
   "version": "3.13.7"
  }
 },
 "nbformat": 4,
 "nbformat_minor": 5
}
