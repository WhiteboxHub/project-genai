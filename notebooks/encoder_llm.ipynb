{
 "cells": [
  {
   "cell_type": "code",
   "execution_count": 2,
   "id": "ae55cbf0",
   "metadata": {
    "vscode": {
     "languageId": "markdown"
    }
   },
   "outputs": [],
   "source": [
    "# Encoder model: An encoder is part of a neural network architecture that transforms input data into a numerical \n",
    "# representation (embedding or latent vector) that captures its essential features.\n",
    "# Takes input data.\n",
    "# Processes it (with layers like CNNs, RNNs, or Transformers).\n"
   ]
  },
  {
   "cell_type": "code",
   "execution_count": 3,
   "id": "1d703563",
   "metadata": {},
   "outputs": [
    {
     "name": "stdout",
     "output_type": "stream",
     "text": [
      "Summary:\n",
      " the T5 model is trained on a wide variety of NLP tasks . it supports summarization, translation, question answering, and more .\n"
     ]
    }
   ],
   "source": [
    "from transformers import T5Tokenizer, T5ForConditionalGeneration\n",
    "\n",
    "\n",
    "# Step\t         Function\n",
    "# Tokenizer\t     Converts text → token IDs (for input to the model)\n",
    "# Encoding\t     Adds task prefix (\"summarize:\") to input\n",
    "# Model\t         T5 generates new tokens from input (decoder-based)\n",
    "# Decoding\t     Converts generated tokens back to readable text\n",
    "\n",
    "# Load tokenizer and model\n",
    "model_name = \"t5-base\" \n",
    "tokenizer = T5Tokenizer.from_pretrained(model_name)\n",
    "model = T5ForConditionalGeneration.from_pretrained(model_name)\n",
    "\n",
    "# Sample long input (e.g., for summarization)\n",
    "text = \"\"\"\n",
    "The T5 model is a transformer-based architecture trained on a wide variety of NLP tasks by casting all tasks into a text-to-text format. \n",
    "It supports summarization, translation, question answering, and more. It is highly flexible and popular in the GenAI community.\n",
    "\"\"\"\n",
    "\n",
    "# 1. Encoding: Convert text into tokens\n",
    "input_text = \"summarize: \" + text  # T5 needs a task prefix!\n",
    "input_ids = tokenizer.encode(input_text, return_tensors=\"pt\", max_length=512, truncation=True)\n",
    "\n",
    "# 2. Generation: Generate output tokens\n",
    "summary_ids = model.generate(\n",
    "    input_ids,\n",
    "    max_length=100,\n",
    "    num_beams=4,\n",
    "    early_stopping=True\n",
    ")\n",
    "\n",
    "# 3. Decoding: Convert generated tokens back to text\n",
    "summary = tokenizer.decode(summary_ids[0], skip_special_tokens=True)\n",
    "\n",
    "# Output the summary\n",
    "print(\"Summary:\\n\", summary)\n"
   ]
  }
 ],
 "metadata": {
  "kernelspec": {
   "display_name": "Python 3",
   "language": "python",
   "name": "python3"
  },
  "language_info": {
   "codemirror_mode": {
    "name": "ipython",
    "version": 3
   },
   "file_extension": ".py",
   "mimetype": "text/x-python",
   "name": "python",
   "nbconvert_exporter": "python",
   "pygments_lexer": "ipython3",
   "version": "3.12.6"
  }
 },
 "nbformat": 4,
 "nbformat_minor": 5
}
