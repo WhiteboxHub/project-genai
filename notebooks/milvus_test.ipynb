{
 "cells": [
  {
   "cell_type": "code",
   "execution_count": 1,
   "id": "f6887516",
   "metadata": {},
   "outputs": [
    {
     "name": "stdout",
     "output_type": "stream",
     "text": [
      "{'address': 'localhost:19530', 'user': ''}\n"
     ]
    }
   ],
   "source": [
    "from pymilvus import connections\n",
    "\n",
    "connections.connect(\"default\", host=\"localhost\", port=\"19530\")\n",
    "server_version = connections.get_connection_addr(\"default\")\n",
    "print(server_version)"
   ]
  },
  {
   "cell_type": "code",
   "execution_count": 2,
   "id": "dd576d80",
   "metadata": {},
   "outputs": [
    {
     "name": "stdout",
     "output_type": "stream",
     "text": [
      "Milvus server version: v2.3.21\n",
      "PyMilvus SDK version: 2.6.1\n"
     ]
    }
   ],
   "source": [
    "from pymilvus import connections, utility\n",
    "\n",
    "# Connect to your Milvus server\n",
    "connections.connect(\"default\", host=\"localhost\", port=\"19530\")\n",
    "\n",
    "# Get Milvus server version\n",
    "server_version = utility.get_server_version()\n",
    "print(\"Milvus server version:\", server_version)\n",
    "\n",
    "# Get PyMilvus SDK version\n",
    "import pymilvus\n",
    "print(\"PyMilvus SDK version:\", pymilvus.__version__)\n"
   ]
  }
 ],
 "metadata": {
  "kernelspec": {
   "display_name": ".venv",
   "language": "python",
   "name": "python3"
  },
  "language_info": {
   "codemirror_mode": {
    "name": "ipython",
    "version": 3
   },
   "file_extension": ".py",
   "mimetype": "text/x-python",
   "name": "python",
   "nbconvert_exporter": "python",
   "pygments_lexer": "ipython3",
   "version": "3.10.5"
  }
 },
 "nbformat": 4,
 "nbformat_minor": 5
}
