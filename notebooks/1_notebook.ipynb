{
 "cells": [
  {
   "cell_type": "markdown",
   "id": "20ae5ada",
   "metadata": {},
   "source": [
    "# Encoder Only Models"
   ]
  },
  {
   "cell_type": "markdown",
   "id": "47c344de",
   "metadata": {},
   "source": [
    "# 1. Google BERT"
   ]
  },
  {
   "cell_type": "code",
   "execution_count": 1,
   "id": "dffed51f",
   "metadata": {},
   "outputs": [],
   "source": [
    "from transformers import pipeline"
   ]
  },
  {
   "cell_type": "code",
   "execution_count": 2,
   "id": "9d32b5a4",
   "metadata": {},
   "outputs": [
    {
     "data": {
      "application/vnd.jupyter.widget-view+json": {
       "model_id": "9749a0d436044201b2d5e4f3e9295095",
       "version_major": 2,
       "version_minor": 0
      },
      "text/plain": [
       "config.json:   0%|          | 0.00/570 [00:00<?, ?B/s]"
      ]
     },
     "metadata": {},
     "output_type": "display_data"
    },
    {
     "data": {
      "application/vnd.jupyter.widget-view+json": {
       "model_id": "b5aed03463f2480eb3ce334538cb63cc",
       "version_major": 2,
       "version_minor": 0
      },
      "text/plain": [
       "model.safetensors:   0%|          | 0.00/440M [00:00<?, ?B/s]"
      ]
     },
     "metadata": {},
     "output_type": "display_data"
    },
    {
     "name": "stderr",
     "output_type": "stream",
     "text": [
      "Some weights of the model checkpoint at google-bert/bert-base-uncased were not used when initializing BertForMaskedLM: ['bert.pooler.dense.bias', 'bert.pooler.dense.weight', 'cls.seq_relationship.bias', 'cls.seq_relationship.weight']\n",
      "- This IS expected if you are initializing BertForMaskedLM from the checkpoint of a model trained on another task or with another architecture (e.g. initializing a BertForSequenceClassification model from a BertForPreTraining model).\n",
      "- This IS NOT expected if you are initializing BertForMaskedLM from the checkpoint of a model that you expect to be exactly identical (initializing a BertForSequenceClassification model from a BertForSequenceClassification model).\n"
     ]
    },
    {
     "data": {
      "application/vnd.jupyter.widget-view+json": {
       "model_id": "85fa0c1b1f744fe0a11f8409133293b4",
       "version_major": 2,
       "version_minor": 0
      },
      "text/plain": [
       "tokenizer_config.json:   0%|          | 0.00/48.0 [00:00<?, ?B/s]"
      ]
     },
     "metadata": {},
     "output_type": "display_data"
    },
    {
     "data": {
      "application/vnd.jupyter.widget-view+json": {
       "model_id": "95c4c458c1fd431896de5399e77b23a5",
       "version_major": 2,
       "version_minor": 0
      },
      "text/plain": [
       "vocab.txt: 0.00B [00:00, ?B/s]"
      ]
     },
     "metadata": {},
     "output_type": "display_data"
    },
    {
     "data": {
      "application/vnd.jupyter.widget-view+json": {
       "model_id": "7e67667ef2064f1c80d7ed841ca4b02c",
       "version_major": 2,
       "version_minor": 0
      },
      "text/plain": [
       "tokenizer.json: 0.00B [00:00, ?B/s]"
      ]
     },
     "metadata": {},
     "output_type": "display_data"
    },
    {
     "name": "stderr",
     "output_type": "stream",
     "text": [
      "Device set to use mps:0\n"
     ]
    }
   ],
   "source": [
    "pipe = pipeline(\"fill-mask\",model = \"google-bert/bert-base-uncased\")"
   ]
  },
  {
   "cell_type": "code",
   "execution_count": 3,
   "id": "234e9c3b",
   "metadata": {},
   "outputs": [
    {
     "name": "stdout",
     "output_type": "stream",
     "text": [
      "[{'score': 0.4167909324169159, 'token': 3000, 'token_str': 'paris', 'sequence': 'the capital of france is paris.'}, {'score': 0.07141708582639694, 'token': 22479, 'token_str': 'lille', 'sequence': 'the capital of france is lille.'}, {'score': 0.06339295208454132, 'token': 10241, 'token_str': 'lyon', 'sequence': 'the capital of france is lyon.'}, {'score': 0.04444769024848938, 'token': 16766, 'token_str': 'marseille', 'sequence': 'the capital of france is marseille.'}, {'score': 0.030297283083200455, 'token': 7562, 'token_str': 'tours', 'sequence': 'the capital of france is tours.'}]\n"
     ]
    }
   ],
   "source": [
    "# Example usage:\n",
    "results = pipe(\"The capital of France is [MASK].\")\n",
    "print(results)"
   ]
  },
  {
   "cell_type": "markdown",
   "id": "60259f16",
   "metadata": {},
   "source": [
    "#2 . all-MiniLM-L6-v2"
   ]
  },
  {
   "cell_type": "code",
   "execution_count": 4,
   "id": "d78c7637",
   "metadata": {},
   "outputs": [
    {
     "name": "stderr",
     "output_type": "stream",
     "text": [
      "huggingface/tokenizers: The current process just got forked, after parallelism has already been used. Disabling parallelism to avoid deadlocks...\n",
      "To disable this warning, you can either:\n",
      "\t- Avoid using `tokenizers` before the fork if possible\n",
      "\t- Explicitly set the environment variable TOKENIZERS_PARALLELISM=(true | false)\n"
     ]
    },
    {
     "name": "stdout",
     "output_type": "stream",
     "text": [
      "Collecting sentence-transformers\n",
      "  Downloading sentence_transformers-5.1.0-py3-none-any.whl.metadata (16 kB)\n",
      "Requirement already satisfied: transformers<5.0.0,>=4.41.0 in /Users/harman/git_projects/project-genai/venv/lib/python3.13/site-packages (from sentence-transformers) (4.56.0)\n",
      "Requirement already satisfied: tqdm in /Users/harman/git_projects/project-genai/venv/lib/python3.13/site-packages (from sentence-transformers) (4.67.1)\n",
      "Requirement already satisfied: torch>=1.11.0 in /Users/harman/git_projects/project-genai/venv/lib/python3.13/site-packages (from sentence-transformers) (2.9.0.dev20250903)\n",
      "Collecting scikit-learn (from sentence-transformers)\n",
      "  Downloading scikit_learn-1.7.1-cp313-cp313-macosx_12_0_arm64.whl.metadata (11 kB)\n",
      "Collecting scipy (from sentence-transformers)\n",
      "  Downloading scipy-1.16.1-cp313-cp313-macosx_14_0_arm64.whl.metadata (61 kB)\n",
      "Requirement already satisfied: huggingface-hub>=0.20.0 in /Users/harman/git_projects/project-genai/venv/lib/python3.13/site-packages (from sentence-transformers) (0.34.4)\n",
      "Requirement already satisfied: Pillow in /Users/harman/git_projects/project-genai/venv/lib/python3.13/site-packages (from sentence-transformers) (11.3.0)\n",
      "Requirement already satisfied: typing_extensions>=4.5.0 in /Users/harman/git_projects/project-genai/venv/lib/python3.13/site-packages (from sentence-transformers) (4.15.0)\n",
      "Requirement already satisfied: filelock in /Users/harman/git_projects/project-genai/venv/lib/python3.13/site-packages (from transformers<5.0.0,>=4.41.0->sentence-transformers) (3.19.1)\n",
      "Requirement already satisfied: numpy>=1.17 in /Users/harman/git_projects/project-genai/venv/lib/python3.13/site-packages (from transformers<5.0.0,>=4.41.0->sentence-transformers) (2.3.2)\n",
      "Requirement already satisfied: packaging>=20.0 in /Users/harman/git_projects/project-genai/venv/lib/python3.13/site-packages (from transformers<5.0.0,>=4.41.0->sentence-transformers) (25.0)\n",
      "Requirement already satisfied: pyyaml>=5.1 in /Users/harman/git_projects/project-genai/venv/lib/python3.13/site-packages (from transformers<5.0.0,>=4.41.0->sentence-transformers) (6.0.2)\n",
      "Requirement already satisfied: regex!=2019.12.17 in /Users/harman/git_projects/project-genai/venv/lib/python3.13/site-packages (from transformers<5.0.0,>=4.41.0->sentence-transformers) (2025.9.1)\n",
      "Requirement already satisfied: requests in /Users/harman/git_projects/project-genai/venv/lib/python3.13/site-packages (from transformers<5.0.0,>=4.41.0->sentence-transformers) (2.32.5)\n",
      "Requirement already satisfied: tokenizers<=0.23.0,>=0.22.0 in /Users/harman/git_projects/project-genai/venv/lib/python3.13/site-packages (from transformers<5.0.0,>=4.41.0->sentence-transformers) (0.22.0)\n",
      "Requirement already satisfied: safetensors>=0.4.3 in /Users/harman/git_projects/project-genai/venv/lib/python3.13/site-packages (from transformers<5.0.0,>=4.41.0->sentence-transformers) (0.6.2)\n",
      "Requirement already satisfied: fsspec>=2023.5.0 in /Users/harman/git_projects/project-genai/venv/lib/python3.13/site-packages (from huggingface-hub>=0.20.0->sentence-transformers) (2025.9.0)\n",
      "Requirement already satisfied: hf-xet<2.0.0,>=1.1.3 in /Users/harman/git_projects/project-genai/venv/lib/python3.13/site-packages (from huggingface-hub>=0.20.0->sentence-transformers) (1.1.9)\n",
      "Requirement already satisfied: setuptools in /Users/harman/git_projects/project-genai/venv/lib/python3.13/site-packages (from torch>=1.11.0->sentence-transformers) (80.9.0)\n",
      "Requirement already satisfied: sympy>=1.13.3 in /Users/harman/git_projects/project-genai/venv/lib/python3.13/site-packages (from torch>=1.11.0->sentence-transformers) (1.14.0)\n",
      "Requirement already satisfied: networkx>=2.5.1 in /Users/harman/git_projects/project-genai/venv/lib/python3.13/site-packages (from torch>=1.11.0->sentence-transformers) (3.5)\n",
      "Requirement already satisfied: jinja2 in /Users/harman/git_projects/project-genai/venv/lib/python3.13/site-packages (from torch>=1.11.0->sentence-transformers) (3.1.6)\n",
      "Requirement already satisfied: mpmath<1.4,>=1.1.0 in /Users/harman/git_projects/project-genai/venv/lib/python3.13/site-packages (from sympy>=1.13.3->torch>=1.11.0->sentence-transformers) (1.3.0)\n",
      "Requirement already satisfied: MarkupSafe>=2.0 in /Users/harman/git_projects/project-genai/venv/lib/python3.13/site-packages (from jinja2->torch>=1.11.0->sentence-transformers) (3.0.2)\n",
      "Requirement already satisfied: charset_normalizer<4,>=2 in /Users/harman/git_projects/project-genai/venv/lib/python3.13/site-packages (from requests->transformers<5.0.0,>=4.41.0->sentence-transformers) (3.4.3)\n",
      "Requirement already satisfied: idna<4,>=2.5 in /Users/harman/git_projects/project-genai/venv/lib/python3.13/site-packages (from requests->transformers<5.0.0,>=4.41.0->sentence-transformers) (3.10)\n",
      "Requirement already satisfied: urllib3<3,>=1.21.1 in /Users/harman/git_projects/project-genai/venv/lib/python3.13/site-packages (from requests->transformers<5.0.0,>=4.41.0->sentence-transformers) (2.5.0)\n",
      "Requirement already satisfied: certifi>=2017.4.17 in /Users/harman/git_projects/project-genai/venv/lib/python3.13/site-packages (from requests->transformers<5.0.0,>=4.41.0->sentence-transformers) (2025.8.3)\n",
      "Collecting joblib>=1.2.0 (from scikit-learn->sentence-transformers)\n",
      "  Downloading joblib-1.5.2-py3-none-any.whl.metadata (5.6 kB)\n",
      "Collecting threadpoolctl>=3.1.0 (from scikit-learn->sentence-transformers)\n",
      "  Downloading threadpoolctl-3.6.0-py3-none-any.whl.metadata (13 kB)\n",
      "Downloading sentence_transformers-5.1.0-py3-none-any.whl (483 kB)\n",
      "Downloading scikit_learn-1.7.1-cp313-cp313-macosx_12_0_arm64.whl (8.6 MB)\n",
      "\u001b[2K   \u001b[90m━━━━━━━━━━━━━━━━━━━━━━━━━━━━━━━━━━━━━━━━\u001b[0m \u001b[32m8.6/8.6 MB\u001b[0m \u001b[31m10.1 MB/s\u001b[0m  \u001b[33m0:00:00\u001b[0mm0:00:01\u001b[0m00:01\u001b[0m\n",
      "\u001b[?25hDownloading joblib-1.5.2-py3-none-any.whl (308 kB)\n",
      "Downloading scipy-1.16.1-cp313-cp313-macosx_14_0_arm64.whl (20.8 MB)\n",
      "\u001b[2K   \u001b[90m━━━━━━━━━━━━━━━━━━━━━━━━━━━━━━━━━━━━━━━━\u001b[0m \u001b[32m20.8/20.8 MB\u001b[0m \u001b[31m10.0 MB/s\u001b[0m  \u001b[33m0:00:02\u001b[0mm0:00:01\u001b[0m00:01\u001b[0m\n",
      "\u001b[?25hDownloading threadpoolctl-3.6.0-py3-none-any.whl (18 kB)\n",
      "Installing collected packages: threadpoolctl, scipy, joblib, scikit-learn, sentence-transformers\n",
      "\u001b[2K   \u001b[90m━━━━━━━━━━━━━━━━━━━━━━━━━━━━━━━━━━━━━━━━\u001b[0m \u001b[32m5/5\u001b[0m [sentence-transformers]ence-transformers]\n",
      "\u001b[1A\u001b[2KSuccessfully installed joblib-1.5.2 scikit-learn-1.7.1 scipy-1.16.1 sentence-transformers-5.1.0 threadpoolctl-3.6.0\n",
      "Note: you may need to restart the kernel to use updated packages.\n"
     ]
    }
   ],
   "source": [
    "pip install -U sentence-transformers"
   ]
  },
  {
   "cell_type": "code",
   "execution_count": 5,
   "id": "7328c39f",
   "metadata": {},
   "outputs": [
    {
     "data": {
      "application/vnd.jupyter.widget-view+json": {
       "model_id": "f4aee920d5fa47d1aef04a3e49f7dfbe",
       "version_major": 2,
       "version_minor": 0
      },
      "text/plain": [
       "modules.json:   0%|          | 0.00/349 [00:00<?, ?B/s]"
      ]
     },
     "metadata": {},
     "output_type": "display_data"
    },
    {
     "data": {
      "application/vnd.jupyter.widget-view+json": {
       "model_id": "edcd59c8e29a4ad48d13d1b7958e570f",
       "version_major": 2,
       "version_minor": 0
      },
      "text/plain": [
       "config_sentence_transformers.json:   0%|          | 0.00/116 [00:00<?, ?B/s]"
      ]
     },
     "metadata": {},
     "output_type": "display_data"
    },
    {
     "data": {
      "application/vnd.jupyter.widget-view+json": {
       "model_id": "25f6d075516e4d5588a9e11dd5e27be4",
       "version_major": 2,
       "version_minor": 0
      },
      "text/plain": [
       "README.md: 0.00B [00:00, ?B/s]"
      ]
     },
     "metadata": {},
     "output_type": "display_data"
    },
    {
     "data": {
      "application/vnd.jupyter.widget-view+json": {
       "model_id": "4efd5b62abb94746862a862c009a1f95",
       "version_major": 2,
       "version_minor": 0
      },
      "text/plain": [
       "sentence_bert_config.json:   0%|          | 0.00/53.0 [00:00<?, ?B/s]"
      ]
     },
     "metadata": {},
     "output_type": "display_data"
    },
    {
     "data": {
      "application/vnd.jupyter.widget-view+json": {
       "model_id": "412b4840c7304d49add10de99e5f6cb3",
       "version_major": 2,
       "version_minor": 0
      },
      "text/plain": [
       "config.json:   0%|          | 0.00/612 [00:00<?, ?B/s]"
      ]
     },
     "metadata": {},
     "output_type": "display_data"
    },
    {
     "data": {
      "application/vnd.jupyter.widget-view+json": {
       "model_id": "19dc25893c074af283c12fbf3796e4f2",
       "version_major": 2,
       "version_minor": 0
      },
      "text/plain": [
       "model.safetensors:   0%|          | 0.00/90.9M [00:00<?, ?B/s]"
      ]
     },
     "metadata": {},
     "output_type": "display_data"
    },
    {
     "data": {
      "application/vnd.jupyter.widget-view+json": {
       "model_id": "ac42daf34a8e4a3b921fbe82fb3b7191",
       "version_major": 2,
       "version_minor": 0
      },
      "text/plain": [
       "tokenizer_config.json:   0%|          | 0.00/350 [00:00<?, ?B/s]"
      ]
     },
     "metadata": {},
     "output_type": "display_data"
    },
    {
     "data": {
      "application/vnd.jupyter.widget-view+json": {
       "model_id": "0ff4897908404373b8c6dcb326b1a5e5",
       "version_major": 2,
       "version_minor": 0
      },
      "text/plain": [
       "vocab.txt: 0.00B [00:00, ?B/s]"
      ]
     },
     "metadata": {},
     "output_type": "display_data"
    },
    {
     "data": {
      "application/vnd.jupyter.widget-view+json": {
       "model_id": "36ed7b32b7ae4c26b27f97c2cad778fd",
       "version_major": 2,
       "version_minor": 0
      },
      "text/plain": [
       "tokenizer.json: 0.00B [00:00, ?B/s]"
      ]
     },
     "metadata": {},
     "output_type": "display_data"
    },
    {
     "data": {
      "application/vnd.jupyter.widget-view+json": {
       "model_id": "68cb1014c86e4b2ab79f568f14ae8725",
       "version_major": 2,
       "version_minor": 0
      },
      "text/plain": [
       "special_tokens_map.json:   0%|          | 0.00/112 [00:00<?, ?B/s]"
      ]
     },
     "metadata": {},
     "output_type": "display_data"
    },
    {
     "data": {
      "application/vnd.jupyter.widget-view+json": {
       "model_id": "cd0052b70698400bb3c2434ad0f335bb",
       "version_major": 2,
       "version_minor": 0
      },
      "text/plain": [
       "config.json:   0%|          | 0.00/190 [00:00<?, ?B/s]"
      ]
     },
     "metadata": {},
     "output_type": "display_data"
    },
    {
     "name": "stdout",
     "output_type": "stream",
     "text": [
      "[[ 6.76568821e-02  6.34958521e-02  4.87131178e-02  7.93049559e-02\n",
      "   3.74480262e-02  2.65278015e-03  3.93748991e-02 -7.09846150e-03\n",
      "   5.93614727e-02  3.15370336e-02  6.00980595e-02 -5.29051982e-02\n",
      "   4.06067781e-02 -2.59308200e-02  2.98427995e-02  1.12689543e-03\n",
      "   7.35149682e-02 -5.03819548e-02 -1.22386612e-01  2.37028394e-02\n",
      "   2.97265295e-02  4.24768813e-02  2.56337989e-02  1.99518213e-03\n",
      "  -5.69190867e-02 -2.71598343e-02 -3.29035446e-02  6.60248548e-02\n",
      "   1.19007066e-01 -4.58791628e-02 -7.26215020e-02 -3.25839818e-02\n",
      "   5.23413867e-02  4.50552590e-02  8.25300906e-03  3.67023647e-02\n",
      "  -1.39415115e-02  6.53919056e-02 -2.64272522e-02  2.06384866e-04\n",
      "  -1.36643592e-02 -3.62809673e-02 -1.95043236e-02 -2.89738476e-02\n",
      "   3.94270420e-02 -8.84090960e-02  2.62426329e-03  1.36713460e-02\n",
      "   4.83063199e-02 -3.11565641e-02 -1.17329225e-01 -5.11690453e-02\n",
      "  -8.85287523e-02 -2.18962040e-02  1.42986439e-02  4.44167741e-02\n",
      "  -1.34814642e-02  7.43392631e-02  2.66382936e-02 -1.98762398e-02\n",
      "   1.79190896e-02 -1.06052738e-02 -9.04263332e-02  2.13269554e-02\n",
      "   1.41204864e-01 -6.47172285e-03 -1.40388578e-03 -1.53609971e-02\n",
      "  -8.73571411e-02  7.22173899e-02  2.01403014e-02  4.25587483e-02\n",
      "  -3.49014103e-02  3.19629413e-04 -8.02970678e-02 -3.27472202e-02\n",
      "   2.85268519e-02 -5.13658337e-02  1.09389201e-01  8.19328427e-02\n",
      "  -9.84039754e-02 -9.34095457e-02 -1.51292318e-02  4.51248102e-02\n",
      "   4.94171940e-02 -2.51867864e-02  1.57077517e-02 -1.29290730e-01\n",
      "   5.31897275e-03  4.02345462e-03 -2.34572385e-02 -6.72982931e-02\n",
      "   2.92280912e-02 -2.60845441e-02  1.30625004e-02 -3.11663449e-02\n",
      "  -4.82713766e-02 -5.58859818e-02 -3.87505591e-02  1.20010786e-01\n",
      "  -1.03924777e-02  4.89704832e-02  5.53536937e-02  4.49359342e-02\n",
      "  -4.00965847e-03 -1.02959730e-01 -2.92968843e-02 -5.83402030e-02\n",
      "   2.70472560e-02 -2.20169649e-02 -7.22241700e-02 -4.13869284e-02\n",
      "  -1.93298198e-02  2.73329276e-03  2.76923442e-04 -9.67588276e-02\n",
      "  -1.00574747e-01 -1.41923055e-02 -8.07891265e-02  4.53925505e-02\n",
      "   2.45040618e-02  5.97613826e-02 -7.38185197e-02  1.19843781e-02\n",
      "  -6.63403273e-02 -7.69045129e-02  3.85157093e-02 -5.59362036e-33\n",
      "   2.80013401e-02 -5.60784601e-02 -4.86601964e-02  2.15570237e-02\n",
      "   6.01980761e-02 -4.81402874e-02 -3.50246541e-02  1.93314143e-02\n",
      "  -1.75151732e-02 -3.89210284e-02 -3.81063204e-03 -1.70287453e-02\n",
      "   2.82099638e-02  1.28290579e-02  4.71601337e-02  6.21029846e-02\n",
      "  -6.43588677e-02  1.29285678e-01 -1.31231714e-02  5.23069389e-02\n",
      "  -3.73681076e-02  2.89094523e-02 -1.68980807e-02 -2.37330254e-02\n",
      "  -3.33491936e-02 -5.16763069e-02  1.55356349e-02  2.08802838e-02\n",
      "  -1.25370966e-02  4.59579080e-02  3.72720622e-02  2.80566979e-02\n",
      "  -5.90005741e-02 -1.16988625e-02  4.92181890e-02  4.70328331e-02\n",
      "   7.35487416e-02 -3.70529667e-02  3.98458866e-03  1.06411818e-02\n",
      "  -1.61580858e-04 -5.27166091e-02  2.75927503e-02 -3.92921790e-02\n",
      "   8.44717696e-02  4.86860685e-02 -4.85876156e-03  1.79948304e-02\n",
      "  -4.28569615e-02  1.23375459e-02  6.39955560e-03  4.04822864e-02\n",
      "   1.48887429e-02 -1.53941633e-02  7.62947872e-02  2.37043798e-02\n",
      "   4.45237719e-02  5.08195050e-02 -2.31251610e-03 -1.88737307e-02\n",
      "  -1.23335626e-02  4.66002673e-02 -5.63438050e-02  6.29926622e-02\n",
      "  -3.15535106e-02  3.24912444e-02  2.34672967e-02 -6.55437633e-02\n",
      "   2.01709103e-02  2.57082637e-02 -1.23868166e-02 -8.36496893e-03\n",
      "  -6.64377660e-02  9.43074301e-02 -3.57092768e-02 -3.42483371e-02\n",
      "  -6.66350266e-03 -8.01528338e-03 -3.09711527e-02  4.33012135e-02\n",
      "  -8.21393263e-03 -1.50795028e-01  3.07692308e-02  4.00718786e-02\n",
      "  -3.79294194e-02  1.93209527e-03  4.00530361e-02 -8.77074897e-02\n",
      "  -3.68492082e-02  8.57954565e-03 -3.19251604e-02 -1.25258015e-02\n",
      "   7.35539347e-02  1.34738116e-03  2.05919128e-02  2.71097981e-33\n",
      "  -5.18576950e-02  5.78361005e-02 -9.18985456e-02  3.94422077e-02\n",
      "   1.05576560e-01 -1.96912158e-02  6.18402138e-02 -7.63464272e-02\n",
      "   2.40880549e-02  9.40049738e-02 -1.16535529e-01  3.71198617e-02\n",
      "   5.22425286e-02 -3.95853305e-03  5.72214685e-02  5.32857189e-03\n",
      "   1.24016792e-01  1.39022330e-02 -1.10249883e-02  3.56053077e-02\n",
      "  -3.30754779e-02  8.16574097e-02 -1.52003812e-02  6.05584830e-02\n",
      "  -6.01397194e-02  3.26102711e-02 -3.48296426e-02 -1.69881769e-02\n",
      "  -9.74907875e-02 -2.71483231e-02  1.74707873e-03 -7.68982098e-02\n",
      "  -4.31858487e-02 -1.89985614e-02 -2.91660912e-02  5.77488206e-02\n",
      "   2.41821464e-02 -1.16901938e-02 -6.21435009e-02  2.84351632e-02\n",
      "  -2.37508197e-04 -2.51783226e-02  4.39633336e-03  8.12840387e-02\n",
      "   3.64184789e-02 -6.04006127e-02 -3.65517810e-02 -7.93748051e-02\n",
      "  -5.08529507e-03  6.69699535e-02 -1.17784359e-01  3.23743932e-02\n",
      "  -4.71252203e-02 -1.34459939e-02 -9.48445350e-02  8.24948587e-03\n",
      "  -1.06748752e-02 -6.81882501e-02  1.11813564e-03  2.48019695e-02\n",
      "  -6.35889769e-02  2.84492858e-02 -2.61303373e-02  8.58111680e-02\n",
      "   1.14682302e-01 -5.35345748e-02 -5.63588440e-02  4.26008739e-02\n",
      "   1.09454012e-02  2.09578332e-02  1.00131206e-01  3.26051749e-02\n",
      "  -1.84208840e-01 -3.93208228e-02 -6.91454709e-02 -6.38105422e-02\n",
      "  -6.56385571e-02 -6.41252706e-03 -4.79612350e-02 -7.68133625e-02\n",
      "   2.95384582e-02 -2.29948573e-02  4.17037047e-02 -2.50047203e-02\n",
      "  -4.54505393e-03 -4.17136252e-02 -1.32289128e-02 -6.38357922e-02\n",
      "  -2.46474077e-03 -1.37337688e-02  1.68976486e-02 -6.30398318e-02\n",
      "   8.98881182e-02  4.18170877e-02 -1.85687356e-02 -1.80442150e-08\n",
      "  -1.67998374e-02 -3.21578123e-02  6.30384088e-02 -4.13092375e-02\n",
      "   4.44819145e-02  2.02470063e-03  6.29592761e-02 -5.17373066e-03\n",
      "  -1.00444071e-02 -3.05640996e-02  3.52672227e-02  5.58581576e-02\n",
      "  -4.67125103e-02  3.45102698e-02  3.29577401e-02  4.30114381e-02\n",
      "   2.94361394e-02 -3.03164180e-02 -1.71107445e-02  7.37485290e-02\n",
      "  -5.47909886e-02  2.77515333e-02  6.20164676e-03  1.58800725e-02\n",
      "   3.42978612e-02 -5.15751960e-03  2.35079266e-02  7.53135756e-02\n",
      "   1.92843359e-02  3.36196795e-02  5.09103499e-02  1.52497113e-01\n",
      "   1.64207928e-02  2.70528700e-02  3.75162996e-02  2.18553748e-02\n",
      "   5.66334166e-02 -3.95747498e-02  7.12313503e-02 -5.41377030e-02\n",
      "   1.03776820e-03  2.11852845e-02 -3.56308669e-02  1.09017022e-01\n",
      "   2.76527833e-03  3.13997343e-02  1.38426013e-03 -3.45738754e-02\n",
      "  -4.59277704e-02  2.88083702e-02  7.16908462e-03  4.84684743e-02\n",
      "   2.61018425e-02 -9.44075827e-03  2.82169078e-02  3.48723754e-02\n",
      "   3.69098298e-02 -8.58947821e-03 -3.53205688e-02 -2.47856993e-02\n",
      "  -1.91921573e-02  3.80708128e-02  5.99653833e-02 -4.22286950e-02]\n",
      " [ 8.64385888e-02  1.02762617e-01  5.39454166e-03  2.04442861e-03\n",
      "  -9.96340252e-03  2.53855065e-02  4.92875800e-02 -3.06265820e-02\n",
      "   6.87254965e-02  1.01365848e-02  7.75397718e-02 -9.00806934e-02\n",
      "   6.10614941e-03 -5.69898523e-02  1.41714998e-02  2.80491300e-02\n",
      "  -8.68464410e-02  7.64399320e-02 -1.03491269e-01 -6.77438006e-02\n",
      "   6.99946955e-02  8.44251066e-02 -7.24916859e-03  1.04770297e-02\n",
      "   1.34020643e-02  6.77576885e-02 -9.42086279e-02 -3.71690206e-02\n",
      "   5.22617623e-02 -3.10853459e-02 -9.63406712e-02  1.57716740e-02\n",
      "   2.57866625e-02  7.85244927e-02  7.89949149e-02  1.91516597e-02\n",
      "   1.64356641e-02  3.10082873e-03  3.81311402e-02  2.37090718e-02\n",
      "   1.05389366e-02 -4.40645032e-02  4.41738293e-02 -2.58727875e-02\n",
      "   6.15378842e-02 -4.05427851e-02 -8.64140391e-02  3.19722816e-02\n",
      "  -8.90701427e-04 -2.44437233e-02 -9.19721723e-02  2.33939532e-02\n",
      "  -8.30293596e-02  4.41510640e-02 -2.49692891e-02  6.23020455e-02\n",
      "  -1.30344415e-03  7.51395598e-02  2.46385057e-02 -6.47244379e-02\n",
      "  -1.17727816e-01  3.83391865e-02 -9.11767557e-02  6.35446310e-02\n",
      "   7.62739405e-02 -8.80241245e-02  9.54559911e-03 -4.69717532e-02\n",
      "  -8.41740742e-02  3.88823785e-02 -1.14393592e-01  6.28859643e-03\n",
      "  -3.49361412e-02  2.39750762e-02 -3.31317000e-02 -1.57244336e-02\n",
      "  -3.78955379e-02 -8.81249737e-03  7.06119016e-02  3.28066461e-02\n",
      "   2.03674170e-03 -1.12278946e-01  6.79719727e-03  1.22765377e-02\n",
      "   3.35303284e-02 -1.36200497e-02 -2.25490201e-02 -2.25228760e-02\n",
      "  -2.03194395e-02  5.04297540e-02 -7.48652890e-02 -8.22822601e-02\n",
      "   7.65962303e-02  4.93392460e-02 -3.75553593e-02  1.44634591e-02\n",
      "  -5.72457723e-02 -1.79954600e-02  1.09697975e-01  1.19462825e-01\n",
      "   8.09224788e-04  6.17057718e-02  3.26322839e-02 -1.30780131e-01\n",
      "  -1.48636624e-01 -6.16232716e-02  4.33885977e-02  2.67129112e-02\n",
      "   1.39785958e-02 -3.94002646e-02 -2.52711605e-02  3.87741229e-03\n",
      "   3.58664729e-02 -6.15420192e-02  3.76660749e-02  2.67564822e-02\n",
      "  -3.82659361e-02 -3.54793631e-02 -2.39227377e-02  8.67977291e-02\n",
      "  -1.84063017e-02  7.71039575e-02  1.39864266e-03  7.00382963e-02\n",
      "  -4.77877855e-02 -7.89819956e-02  5.10814041e-02 -2.99868480e-33\n",
      "  -3.91646102e-02 -2.56209611e-03  1.65210087e-02  9.48941056e-03\n",
      "  -5.66219389e-02  6.57782778e-02 -4.77002747e-02  1.11661823e-02\n",
      "  -5.73558584e-02 -9.16257408e-03 -2.17521191e-02 -5.59531897e-02\n",
      "  -1.11422902e-02  9.32793692e-02  1.66764874e-02 -1.36723835e-02\n",
      "   4.34388332e-02  1.87245430e-03  7.29949446e-03  5.16332276e-02\n",
      "   4.80608493e-02  1.35341495e-01 -1.71739142e-02 -1.29698077e-02\n",
      "  -7.50109628e-02  2.61107609e-02  2.69802213e-02  7.83028489e-04\n",
      "  -4.87269983e-02  1.17842732e-02 -4.59580347e-02 -4.83213849e-02\n",
      "  -1.95671134e-02  1.93889178e-02  1.98807213e-02  1.67431999e-02\n",
      "   9.87801030e-02 -2.74088010e-02  2.34809015e-02  3.70230339e-03\n",
      "  -6.14514872e-02 -1.21232122e-03 -9.50473268e-03  9.25156567e-03\n",
      "   2.38443892e-02  8.61232057e-02  2.26790160e-02  5.45108516e-04\n",
      "   3.47130038e-02  6.25460409e-03 -6.92774029e-03  3.92400585e-02\n",
      "   1.15674650e-02  3.26279737e-02  6.22155666e-02  2.76114568e-02\n",
      "   1.86884012e-02  3.55805643e-02  4.11795937e-02  1.54782105e-02\n",
      "   4.22691219e-02  3.82248498e-02  1.00313528e-02 -2.83246003e-02\n",
      "   4.47052680e-02 -4.10459004e-02 -4.50550579e-03 -5.44734709e-02\n",
      "   2.62321103e-02  1.79862045e-02 -1.23118810e-01 -4.66952249e-02\n",
      "  -1.35913379e-02  6.46710470e-02  3.57350567e-03 -1.22233927e-02\n",
      "  -1.79382134e-02 -2.55502407e-02  2.37224270e-02  4.08665417e-03\n",
      "  -6.51475638e-02  4.43651788e-02  4.68596257e-02 -3.25174853e-02\n",
      "   4.02271328e-03 -3.97602795e-03  1.11939460e-02 -9.95597988e-02\n",
      "   3.33168358e-02  8.01060945e-02  9.42692161e-02 -6.38294145e-02\n",
      "   3.23151648e-02 -5.13553359e-02 -7.49871181e-03  5.30049045e-34\n",
      "  -4.13194485e-02  9.49646756e-02 -1.06401443e-01  4.96590622e-02\n",
      "  -3.41913700e-02 -3.16745974e-02 -1.71556063e-02  1.70104206e-03\n",
      "   5.79757988e-02 -1.21780066e-03 -1.68536194e-02 -5.16912788e-02\n",
      "   5.52998781e-02 -3.42647471e-02  3.08179315e-02 -3.10481302e-02\n",
      "   9.27532837e-02  3.72663662e-02 -2.37397738e-02  4.45893593e-02\n",
      "   1.46153532e-02  1.16239339e-01 -5.00112586e-02  3.88716124e-02\n",
      "   4.24750196e-03  2.56976169e-02  3.27243470e-02  4.29907776e-02\n",
      "  -1.36144673e-02  2.56122332e-02  1.06262378e-02 -8.46864432e-02\n",
      "  -9.52982083e-02  1.08399861e-01 -7.51600340e-02 -1.37773398e-02\n",
      "   6.37338310e-02 -4.49669408e-03 -3.25321406e-02  6.23613708e-02\n",
      "   3.48052904e-02 -3.54922414e-02 -2.00222209e-02  3.66608091e-02\n",
      "  -2.48837173e-02  1.01819178e-02 -7.01233298e-02 -4.31950875e-02\n",
      "   2.95332614e-02 -2.94973404e-04 -3.45386602e-02  1.46676023e-02\n",
      "  -9.83970016e-02 -4.70488332e-02 -8.85494612e-03 -8.89914334e-02\n",
      "   3.50996070e-02 -1.29602015e-01 -4.98866029e-02 -6.12047277e-02\n",
      "  -5.97796999e-02  9.46318824e-03  4.91217822e-02 -7.75026828e-02\n",
      "   8.09726864e-02 -4.79257703e-02  2.34378339e-03  7.57031366e-02\n",
      "  -2.40175948e-02 -1.52546223e-02  4.86738794e-02 -3.85968834e-02\n",
      "  -7.04831555e-02 -1.20348055e-02 -3.88790332e-02 -7.76016861e-02\n",
      "  -1.07243583e-02  1.04188034e-02 -2.13753916e-02 -9.17386711e-02\n",
      "  -1.11344876e-02 -2.96066105e-02  2.46458165e-02  4.65712277e-03\n",
      "  -1.63449794e-02 -3.95219438e-02  7.73373619e-02 -2.84733102e-02\n",
      "  -3.69938719e-03  8.27665329e-02 -1.10409250e-02  3.13983969e-02\n",
      "   5.35094365e-02  5.75145446e-02 -3.17622088e-02 -1.52911284e-08\n",
      "  -7.99661428e-02 -4.76797149e-02 -8.59788582e-02  5.69616370e-02\n",
      "  -4.08866294e-02  2.23832484e-02 -4.64446889e-03 -3.80131081e-02\n",
      "  -3.10671199e-02 -1.07278600e-02  1.97698344e-02  7.77003262e-03\n",
      "  -6.09473279e-03 -3.86376381e-02  2.80271824e-02  6.78138509e-02\n",
      "  -2.35351026e-02  3.21747810e-02  8.02539848e-03 -2.39106994e-02\n",
      "  -1.21998938e-03  3.14599201e-02 -5.24924025e-02 -8.06811266e-03\n",
      "   3.14769079e-03  5.11496812e-02 -4.44104560e-02  6.36013299e-02\n",
      "   3.85084040e-02  3.30432765e-02 -4.18727845e-03  4.95592877e-02\n",
      "  -5.69604933e-02 -6.49713492e-03 -2.49793380e-02 -1.60866939e-02\n",
      "   6.62289038e-02 -2.06310656e-02  1.08045779e-01  1.68546978e-02\n",
      "   1.43813333e-02 -1.32126985e-02 -1.29387408e-01  6.95216581e-02\n",
      "  -5.55772856e-02 -6.75413311e-02 -5.45819523e-03 -6.13594288e-03\n",
      "   3.90841179e-02 -6.28779829e-02  3.74063775e-02 -1.16570955e-02\n",
      "   1.29150227e-02 -5.52495420e-02  5.16075790e-02 -4.30838577e-03\n",
      "   5.80247417e-02  1.86945032e-02  2.27810517e-02  3.21666002e-02\n",
      "   5.37978821e-02  7.02849403e-02  7.49312267e-02 -8.41775239e-02]]\n"
     ]
    }
   ],
   "source": [
    "from sentence_transformers import SentenceTransformer\n",
    "sentences = [\"This is an example sentence\", \"Each sentence is converted\"]\n",
    "\n",
    "model = SentenceTransformer('sentence-transformers/all-MiniLM-L6-v2')\n",
    "embeddings = model.encode(sentences)\n",
    "print(embeddings)\n"
   ]
  },
  {
   "cell_type": "markdown",
   "id": "b9f9b3ab",
   "metadata": {},
   "source": [
    "Decoder Only Models"
   ]
  },
  {
   "cell_type": "markdown",
   "id": "0d78484a",
   "metadata": {},
   "source": []
  },
  {
   "cell_type": "markdown",
   "id": "46562db6",
   "metadata": {},
   "source": []
  },
  {
   "cell_type": "markdown",
   "id": "fa45f4e8",
   "metadata": {},
   "source": []
  },
  {
   "cell_type": "markdown",
   "id": "b73d0bf5",
   "metadata": {},
   "source": []
  },
  {
   "cell_type": "markdown",
   "id": "5d638aa8",
   "metadata": {},
   "source": []
  },
  {
   "cell_type": "markdown",
   "id": "e62a6721",
   "metadata": {},
   "source": []
  }
 ],
 "metadata": {
  "kernelspec": {
   "display_name": "venv",
   "language": "python",
   "name": "python3"
  },
  "language_info": {
   "codemirror_mode": {
    "name": "ipython",
    "version": 3
   },
   "file_extension": ".py",
   "mimetype": "text/x-python",
   "name": "python",
   "nbconvert_exporter": "python",
   "pygments_lexer": "ipython3",
   "version": "3.13.7"
  }
 },
 "nbformat": 4,
 "nbformat_minor": 5
}
