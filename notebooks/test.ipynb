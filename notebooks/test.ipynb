{
 "cells": [
  {
   "cell_type": "code",
   "execution_count": 2,
   "metadata": {},
   "outputs": [
    {
     "name": "stdout",
     "output_type": "stream",
     "text": [
      "hello how r u\n"
     ]
    }
   ],
   "source": [
    "print('hello how r u')"
   ]
  },
  {
   "cell_type": "code",
   "execution_count": 3,
   "metadata": {},
   "outputs": [
    {
     "name": "stdout",
     "output_type": "stream",
     "text": [
      "['my name is', ' maryam. I', ' am doing ', 'AI/ML , th', 'is is a ve', 'ry interes', 'ting field', '. how do y', 'ou know th', 'at it is a', ' growing f', 'ield']\n"
     ]
    }
   ],
   "source": [
    "def fixed_length_chunking(ip_text,chunk_size):\n",
    "        \"\"\"\n",
    "        fixed length chunking.\n",
    "        arguments \n",
    "        1- input text\n",
    "        2- chun size\n",
    "        \n",
    "        it returns a list of chunks\n",
    "        \"\"\"\n",
    "    \n",
    "        return [ip_text[i:i+chunk_size] for i in range(0,len(ip_text),chunk_size)]\n",
    "text='my name is maryam. I am doing AI/ML , this is a very interesting field. how do you know that it is a growing field'\n",
    "size = 10\n",
    "chunk = fixed_length_chunking(text,size)\n",
    "print(chunk)"
   ]
  },
  {
   "cell_type": "code",
   "execution_count": 9,
   "metadata": {},
   "outputs": [
    {
     "name": "stdout",
     "output_type": "stream",
     "text": [
      "['my name is maryam. I am doing ', ' maryam. I am doing AI/ML , th', ' am doing AI/ML , this is a ve', 'AI/ML , this is a very interes', 'is is a very interesting field', 'ry interesting field. how do y', 'ting field. how do you know th', '. how do you know that it is a', 'ou know that it is a growing f']\n"
     ]
    }
   ],
   "source": [
    "def overlap_chunking(ip_text,chunk_size,step_size):\n",
    "        \"\"\"\n",
    "        Arguments\n",
    "        1 input_text- input text that needs to be chunked\n",
    "        2 chunk_size- The total number of tokens or characters that each chunk can\n",
    "        contain.\n",
    "        3 step_size- The number of tokens or characters that the window moves to\n",
    "        create the next chunk, which defines the overlap.\n",
    "        \"\"\"\n",
    "        chunks =[]\n",
    "        for i in range(0,len(ip_text)-chunk_size+1,step_size):\n",
    "            chunk = ip_text[i:i+chunk_size]\n",
    "            chunks.append(chunk)\n",
    "        return chunks\n",
    "        \n",
    "text='my name is maryam. I am doing AI/ML , this is a very interesting field. how do you know that it is a growing field'\n",
    "ch_size = 30\n",
    "overlap = 10\n",
    "\n",
    "print(overlap_chunking(text,ch_size,overlap))\n"
   ]
  },
  {
   "cell_type": "code",
   "execution_count": 23,
   "metadata": {},
   "outputs": [
    {
     "name": "stdout",
     "output_type": "stream",
     "text": [
      "['my name is maryam. I', 'I am doing AI/ML ,', ', this is a very', 'very interesting', 'field. how do you', 'you know that it is', 'is a growing field']\n",
      "CHARACTER CHINKING===> ['my name is maryam. I am doing AI/ML , this is a very interesting field. how do you know that it is a growing field']\n"
     ]
    }
   ],
   "source": [
    "from langchain_text_splitters import CharacterTextSplitter, RecursiveCharacterTextSplitter\n",
    "\n",
    "\n",
    "def recursive_chunking(ip_text,chunk_size,overlap):\n",
    "    splitter = RecursiveCharacterTextSplitter(chunk_size=chunk_size,chunk_overlap=overlap)\n",
    "    return splitter.split_text(ip_text)\n",
    "\n",
    "def character_chunking(ip_text,chunk_size,overlap):\n",
    "    splitter = CharacterTextSplitter(chunk_size=chunk_size,chunk_overlap=overlap)\n",
    "    return splitter.split_text(ip_text)\n",
    "\n",
    "text='my name is maryam. I am doing AI/ML , this is a very interesting field. how do you know that it is a growing field'\n",
    "ch_size = 20\n",
    "overlap = 5\n",
    "\n",
    "print(recursive_chunking(text,ch_size,overlap))\n",
    "print('CHARACTER CHINKING===>',character_chunking(text,ch_size,overlap))\n",
    "    \n",
    "\n"
   ]
  }
 ],
 "metadata": {
  "kernelspec": {
   "display_name": "Python 3",
   "language": "python",
   "name": "python3"
  },
  "language_info": {
   "codemirror_mode": {
    "name": "ipython",
    "version": 3
   },
   "file_extension": ".py",
   "mimetype": "text/x-python",
   "name": "python",
   "nbconvert_exporter": "python",
   "pygments_lexer": "ipython3",
   "version": "3.10.18"
  }
 },
 "nbformat": 4,
 "nbformat_minor": 2
}
