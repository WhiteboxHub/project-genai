{
 "cells": [
  {
   "cell_type": "code",
   "execution_count": 1,
   "id": "cd2f7a4e",
   "metadata": {},
   "outputs": [
    {
     "name": "stdout",
     "output_type": "stream",
     "text": [
      "Collecting transformers\n",
      "  Downloading transformers-4.56.1-py3-none-any.whl (11.6 MB)\n",
      "     ---------------------------------------- 0.0/11.6 MB ? eta -:--:--\n",
      "     --------------------------------------- 0.0/11.6 MB 991.0 kB/s eta 0:00:12\n",
      "      --------------------------------------- 0.2/11.6 MB 2.2 MB/s eta 0:00:06\n",
      "      --------------------------------------- 0.3/11.6 MB 2.5 MB/s eta 0:00:05\n",
      "      --------------------------------------- 0.3/11.6 MB 2.5 MB/s eta 0:00:05\n",
      "     - -------------------------------------- 0.5/11.6 MB 2.3 MB/s eta 0:00:05\n",
      "     - -------------------------------------- 0.6/11.6 MB 2.0 MB/s eta 0:00:06\n",
      "     -- ------------------------------------- 0.7/11.6 MB 2.3 MB/s eta 0:00:05\n",
      "     --- ------------------------------------ 0.9/11.6 MB 2.5 MB/s eta 0:00:05\n",
      "     --- ------------------------------------ 1.2/11.6 MB 2.8 MB/s eta 0:00:04\n",
      "     ----- ---------------------------------- 1.5/11.6 MB 3.2 MB/s eta 0:00:04\n",
      "     ----- ---------------------------------- 1.7/11.6 MB 3.5 MB/s eta 0:00:03\n",
      "     ------ --------------------------------- 2.0/11.6 MB 3.7 MB/s eta 0:00:03\n",
      "     ------- -------------------------------- 2.3/11.6 MB 3.8 MB/s eta 0:00:03\n",
      "     -------- ------------------------------- 2.5/11.6 MB 4.0 MB/s eta 0:00:03\n",
      "     --------- ------------------------------ 2.9/11.6 MB 4.3 MB/s eta 0:00:03\n",
      "     --------- ------------------------------ 2.9/11.6 MB 4.3 MB/s eta 0:00:03\n",
      "     ---------- ----------------------------- 3.2/11.6 MB 4.1 MB/s eta 0:00:03\n",
      "     ----------- ---------------------------- 3.2/11.6 MB 3.9 MB/s eta 0:00:03\n",
      "     ----------- ---------------------------- 3.5/11.6 MB 4.0 MB/s eta 0:00:03\n",
      "     ------------- -------------------------- 3.8/11.6 MB 4.2 MB/s eta 0:00:02\n",
      "     -------------- ------------------------- 4.2/11.6 MB 4.4 MB/s eta 0:00:02\n",
      "     --------------- ------------------------ 4.6/11.6 MB 4.5 MB/s eta 0:00:02\n",
      "     ----------------- ---------------------- 5.1/11.6 MB 4.8 MB/s eta 0:00:02\n",
      "     ------------------ --------------------- 5.4/11.6 MB 5.0 MB/s eta 0:00:02\n",
      "     -------------------- ------------------- 5.9/11.6 MB 5.1 MB/s eta 0:00:02\n",
      "     ----------------------- ---------------- 6.7/11.6 MB 5.5 MB/s eta 0:00:01\n",
      "     ------------------------ --------------- 7.0/11.6 MB 5.7 MB/s eta 0:00:01\n",
      "     ------------------------ --------------- 7.0/11.6 MB 5.7 MB/s eta 0:00:01\n",
      "     ------------------------- -------------- 7.5/11.6 MB 5.6 MB/s eta 0:00:01\n",
      "     -------------------------- ------------- 7.6/11.6 MB 5.5 MB/s eta 0:00:01\n",
      "     --------------------------- ------------ 8.0/11.6 MB 5.6 MB/s eta 0:00:01\n",
      "     ----------------------------- ---------- 8.6/11.6 MB 5.9 MB/s eta 0:00:01\n",
      "     ------------------------------- -------- 9.1/11.6 MB 6.0 MB/s eta 0:00:01\n",
      "     --------------------------------- ------ 9.8/11.6 MB 6.3 MB/s eta 0:00:01\n",
      "     ----------------------------------- ---- 10.4/11.6 MB 6.7 MB/s eta 0:00:01\n",
      "     -------------------------------------- - 11.1/11.6 MB 7.8 MB/s eta 0:00:01\n",
      "     ---------------------------------------  11.6/11.6 MB 8.3 MB/s eta 0:00:01\n",
      "     ---------------------------------------- 11.6/11.6 MB 8.0 MB/s eta 0:00:00\n",
      "Collecting filelock\n",
      "  Downloading filelock-3.19.1-py3-none-any.whl (15 kB)\n",
      "Collecting tqdm>=4.27\n",
      "  Using cached tqdm-4.67.1-py3-none-any.whl (78 kB)\n",
      "Collecting pyyaml>=5.1\n",
      "  Using cached PyYAML-6.0.2-cp310-cp310-win_amd64.whl (161 kB)\n",
      "Collecting safetensors>=0.4.3\n",
      "  Downloading safetensors-0.6.2-cp38-abi3-win_amd64.whl (320 kB)\n",
      "     ---------------------------------------- 0.0/320.2 kB ? eta -:--:--\n",
      "     ------------------------------------- 320.2/320.2 kB 10.0 MB/s eta 0:00:00\n",
      "Collecting huggingface-hub<1.0,>=0.34.0\n",
      "  Downloading huggingface_hub-0.34.4-py3-none-any.whl (561 kB)\n",
      "     ---------------------------------------- 0.0/561.5 kB ? eta -:--:--\n",
      "     ------------------------------------- 561.5/561.5 kB 17.8 MB/s eta 0:00:00\n",
      "Requirement already satisfied: packaging>=20.0 in c:\\users\\gursewakneet\\project-genai\\myenv\\lib\\site-packages (from transformers) (25.0)\n",
      "Collecting numpy>=1.17\n",
      "  Using cached numpy-2.2.6-cp310-cp310-win_amd64.whl (12.9 MB)\n",
      "Collecting tokenizers<=0.23.0,>=0.22.0\n",
      "  Downloading tokenizers-0.22.0-cp39-abi3-win_amd64.whl (2.7 MB)\n",
      "     ---------------------------------------- 0.0/2.7 MB ? eta -:--:--\n",
      "     -------- ------------------------------- 0.6/2.7 MB 11.5 MB/s eta 0:00:01\n",
      "     ---------------------- ----------------- 1.5/2.7 MB 15.6 MB/s eta 0:00:01\n",
      "     --------------------------- ------------ 1.9/2.7 MB 13.2 MB/s eta 0:00:01\n",
      "     ---------------------------------------  2.7/2.7 MB 15.4 MB/s eta 0:00:01\n",
      "     ---------------------------------------- 2.7/2.7 MB 13.2 MB/s eta 0:00:00\n",
      "Collecting requests\n",
      "  Downloading requests-2.32.5-py3-none-any.whl (64 kB)\n",
      "     ---------------------------------------- 0.0/64.7 kB ? eta -:--:--\n",
      "     ---------------------------------------- 64.7/64.7 kB ? eta 0:00:00\n",
      "Collecting regex!=2019.12.17\n",
      "  Downloading regex-2025.9.1-cp310-cp310-win_amd64.whl (276 kB)\n",
      "     ---------------------------------------- 0.0/276.1 kB ? eta -:--:--\n",
      "     ------------------------------------- 276.1/276.1 kB 17.7 MB/s eta 0:00:00\n",
      "Requirement already satisfied: typing-extensions>=3.7.4.3 in c:\\users\\gursewakneet\\project-genai\\myenv\\lib\\site-packages (from huggingface-hub<1.0,>=0.34.0->transformers) (4.15.0)\n",
      "Collecting fsspec>=2023.5.0\n",
      "  Downloading fsspec-2025.9.0-py3-none-any.whl (199 kB)\n",
      "     ---------------------------------------- 0.0/199.3 kB ? eta -:--:--\n",
      "     ---------------------------------------- 199.3/199.3 kB ? eta 0:00:00\n",
      "Requirement already satisfied: colorama in c:\\users\\gursewakneet\\project-genai\\myenv\\lib\\site-packages (from tqdm>=4.27->transformers) (0.4.6)\n",
      "Collecting charset_normalizer<4,>=2\n",
      "  Using cached charset_normalizer-3.4.3-cp310-cp310-win_amd64.whl (107 kB)\n",
      "Collecting certifi>=2017.4.17\n",
      "  Using cached certifi-2025.8.3-py3-none-any.whl (161 kB)\n",
      "Collecting urllib3<3,>=1.21.1\n",
      "  Using cached urllib3-2.5.0-py3-none-any.whl (129 kB)\n",
      "Collecting idna<4,>=2.5\n",
      "  Using cached idna-3.10-py3-none-any.whl (70 kB)\n",
      "Installing collected packages: urllib3, tqdm, safetensors, regex, pyyaml, numpy, idna, fsspec, filelock, charset_normalizer, certifi, requests, huggingface-hub, tokenizers, transformers\n",
      "Successfully installed certifi-2025.8.3 charset_normalizer-3.4.3 filelock-3.19.1 fsspec-2025.9.0 huggingface-hub-0.34.4 idna-3.10 numpy-2.2.6 pyyaml-6.0.2 regex-2025.9.1 requests-2.32.5 safetensors-0.6.2 tokenizers-0.22.0 tqdm-4.67.1 transformers-4.56.1 urllib3-2.5.0\n",
      "Note: you may need to restart the kernel to use updated packages.\n"
     ]
    },
    {
     "name": "stderr",
     "output_type": "stream",
     "text": [
      "\n",
      "[notice] A new release of pip is available: 23.0.1 -> 25.2\n",
      "[notice] To update, run: python.exe -m pip install --upgrade pip\n"
     ]
    }
   ],
   "source": [
    "%pip install transformers\n"
   ]
  },
  {
   "cell_type": "code",
   "execution_count": 6,
   "id": "58822a65",
   "metadata": {},
   "outputs": [
    {
     "name": "stdout",
     "output_type": "stream",
     "text": [
      "Requirement already satisfied: langchain-community in c:\\users\\gursewakneet\\documents\\project-genai\\myenv\\lib\\site-packages (0.3.29)\n",
      "Requirement already satisfied: langchain-core<2.0.0,>=0.3.75 in c:\\users\\gursewakneet\\documents\\project-genai\\myenv\\lib\\site-packages (from langchain-community) (0.3.75)\n",
      "Requirement already satisfied: langchain<2.0.0,>=0.3.27 in c:\\users\\gursewakneet\\documents\\project-genai\\myenv\\lib\\site-packages (from langchain-community) (0.3.27)\n",
      "Requirement already satisfied: SQLAlchemy<3,>=1.4 in c:\\users\\gursewakneet\\documents\\project-genai\\myenv\\lib\\site-packages (from langchain-community) (2.0.43)\n",
      "Requirement already satisfied: requests<3,>=2.32.5 in c:\\users\\gursewakneet\\documents\\project-genai\\myenv\\lib\\site-packages (from langchain-community) (2.32.5)\n",
      "Requirement already satisfied: PyYAML>=5.3 in c:\\users\\gursewakneet\\documents\\project-genai\\myenv\\lib\\site-packages (from langchain-community) (6.0.2)\n",
      "Requirement already satisfied: aiohttp<4.0.0,>=3.8.3 in c:\\users\\gursewakneet\\documents\\project-genai\\myenv\\lib\\site-packages (from langchain-community) (3.12.15)\n",
      "Requirement already satisfied: tenacity!=8.4.0,<10,>=8.1.0 in c:\\users\\gursewakneet\\documents\\project-genai\\myenv\\lib\\site-packages (from langchain-community) (9.1.2)\n",
      "Requirement already satisfied: dataclasses-json<0.7,>=0.6.7 in c:\\users\\gursewakneet\\documents\\project-genai\\myenv\\lib\\site-packages (from langchain-community) (0.6.7)\n",
      "Requirement already satisfied: pydantic-settings<3.0.0,>=2.10.1 in c:\\users\\gursewakneet\\documents\\project-genai\\myenv\\lib\\site-packages (from langchain-community) (2.10.1)\n",
      "Requirement already satisfied: langsmith>=0.1.125 in c:\\users\\gursewakneet\\documents\\project-genai\\myenv\\lib\\site-packages (from langchain-community) (0.4.26)\n",
      "Requirement already satisfied: httpx-sse<1.0.0,>=0.4.0 in c:\\users\\gursewakneet\\documents\\project-genai\\myenv\\lib\\site-packages (from langchain-community) (0.4.1)\n",
      "Requirement already satisfied: numpy>=1.26.2 in c:\\users\\gursewakneet\\documents\\project-genai\\myenv\\lib\\site-packages (from langchain-community) (2.2.6)\n",
      "Requirement already satisfied: aiohappyeyeballs>=2.5.0 in c:\\users\\gursewakneet\\documents\\project-genai\\myenv\\lib\\site-packages (from aiohttp<4.0.0,>=3.8.3->langchain-community) (2.6.1)\n",
      "Requirement already satisfied: aiosignal>=1.4.0 in c:\\users\\gursewakneet\\documents\\project-genai\\myenv\\lib\\site-packages (from aiohttp<4.0.0,>=3.8.3->langchain-community) (1.4.0)\n",
      "Requirement already satisfied: async-timeout<6.0,>=4.0 in c:\\users\\gursewakneet\\documents\\project-genai\\myenv\\lib\\site-packages (from aiohttp<4.0.0,>=3.8.3->langchain-community) (4.0.3)\n",
      "Requirement already satisfied: attrs>=17.3.0 in c:\\users\\gursewakneet\\documents\\project-genai\\myenv\\lib\\site-packages (from aiohttp<4.0.0,>=3.8.3->langchain-community) (25.3.0)\n",
      "Requirement already satisfied: frozenlist>=1.1.1 in c:\\users\\gursewakneet\\documents\\project-genai\\myenv\\lib\\site-packages (from aiohttp<4.0.0,>=3.8.3->langchain-community) (1.7.0)\n",
      "Requirement already satisfied: multidict<7.0,>=4.5 in c:\\users\\gursewakneet\\documents\\project-genai\\myenv\\lib\\site-packages (from aiohttp<4.0.0,>=3.8.3->langchain-community) (6.6.4)\n",
      "Requirement already satisfied: propcache>=0.2.0 in c:\\users\\gursewakneet\\documents\\project-genai\\myenv\\lib\\site-packages (from aiohttp<4.0.0,>=3.8.3->langchain-community) (0.3.2)\n",
      "Requirement already satisfied: yarl<2.0,>=1.17.0 in c:\\users\\gursewakneet\\documents\\project-genai\\myenv\\lib\\site-packages (from aiohttp<4.0.0,>=3.8.3->langchain-community) (1.20.1)\n",
      "Requirement already satisfied: marshmallow<4.0.0,>=3.18.0 in c:\\users\\gursewakneet\\documents\\project-genai\\myenv\\lib\\site-packages (from dataclasses-json<0.7,>=0.6.7->langchain-community) (3.26.1)\n",
      "Requirement already satisfied: typing-inspect<1,>=0.4.0 in c:\\users\\gursewakneet\\documents\\project-genai\\myenv\\lib\\site-packages (from dataclasses-json<0.7,>=0.6.7->langchain-community) (0.9.0)\n",
      "Requirement already satisfied: langchain-text-splitters<1.0.0,>=0.3.9 in c:\\users\\gursewakneet\\documents\\project-genai\\myenv\\lib\\site-packages (from langchain<2.0.0,>=0.3.27->langchain-community) (0.3.11)\n",
      "Requirement already satisfied: pydantic<3.0.0,>=2.7.4 in c:\\users\\gursewakneet\\documents\\project-genai\\myenv\\lib\\site-packages (from langchain<2.0.0,>=0.3.27->langchain-community) (2.11.7)\n",
      "Requirement already satisfied: jsonpatch<2.0,>=1.33 in c:\\users\\gursewakneet\\documents\\project-genai\\myenv\\lib\\site-packages (from langchain-core<2.0.0,>=0.3.75->langchain-community) (1.33)\n",
      "Requirement already satisfied: typing-extensions>=4.7 in c:\\users\\gursewakneet\\documents\\project-genai\\myenv\\lib\\site-packages (from langchain-core<2.0.0,>=0.3.75->langchain-community) (4.15.0)\n",
      "Requirement already satisfied: packaging>=23.2 in c:\\users\\gursewakneet\\documents\\project-genai\\myenv\\lib\\site-packages (from langchain-core<2.0.0,>=0.3.75->langchain-community) (25.0)\n",
      "Requirement already satisfied: jsonpointer>=1.9 in c:\\users\\gursewakneet\\documents\\project-genai\\myenv\\lib\\site-packages (from jsonpatch<2.0,>=1.33->langchain-core<2.0.0,>=0.3.75->langchain-community) (3.0.0)\n",
      "Requirement already satisfied: annotated-types>=0.6.0 in c:\\users\\gursewakneet\\documents\\project-genai\\myenv\\lib\\site-packages (from pydantic<3.0.0,>=2.7.4->langchain<2.0.0,>=0.3.27->langchain-community) (0.7.0)\n",
      "Requirement already satisfied: pydantic-core==2.33.2 in c:\\users\\gursewakneet\\documents\\project-genai\\myenv\\lib\\site-packages (from pydantic<3.0.0,>=2.7.4->langchain<2.0.0,>=0.3.27->langchain-community) (2.33.2)\n",
      "Requirement already satisfied: typing-inspection>=0.4.0 in c:\\users\\gursewakneet\\documents\\project-genai\\myenv\\lib\\site-packages (from pydantic<3.0.0,>=2.7.4->langchain<2.0.0,>=0.3.27->langchain-community) (0.4.1)\n",
      "Requirement already satisfied: python-dotenv>=0.21.0 in c:\\users\\gursewakneet\\documents\\project-genai\\myenv\\lib\\site-packages (from pydantic-settings<3.0.0,>=2.10.1->langchain-community) (1.1.1)\n",
      "Requirement already satisfied: charset_normalizer<4,>=2 in c:\\users\\gursewakneet\\documents\\project-genai\\myenv\\lib\\site-packages (from requests<3,>=2.32.5->langchain-community) (3.4.3)\n",
      "Requirement already satisfied: idna<4,>=2.5 in c:\\users\\gursewakneet\\documents\\project-genai\\myenv\\lib\\site-packages (from requests<3,>=2.32.5->langchain-community) (3.10)\n",
      "Requirement already satisfied: urllib3<3,>=1.21.1 in c:\\users\\gursewakneet\\documents\\project-genai\\myenv\\lib\\site-packages (from requests<3,>=2.32.5->langchain-community) (2.5.0)\n",
      "Requirement already satisfied: certifi>=2017.4.17 in c:\\users\\gursewakneet\\documents\\project-genai\\myenv\\lib\\site-packages (from requests<3,>=2.32.5->langchain-community) (2025.8.3)\n",
      "Requirement already satisfied: greenlet>=1 in c:\\users\\gursewakneet\\documents\\project-genai\\myenv\\lib\\site-packages (from SQLAlchemy<3,>=1.4->langchain-community) (3.2.4)\n",
      "Requirement already satisfied: mypy-extensions>=0.3.0 in c:\\users\\gursewakneet\\documents\\project-genai\\myenv\\lib\\site-packages (from typing-inspect<1,>=0.4.0->dataclasses-json<0.7,>=0.6.7->langchain-community) (1.1.0)\n",
      "Requirement already satisfied: httpx<1,>=0.23.0 in c:\\users\\gursewakneet\\documents\\project-genai\\myenv\\lib\\site-packages (from langsmith>=0.1.125->langchain-community) (0.28.1)\n",
      "Requirement already satisfied: orjson>=3.9.14 in c:\\users\\gursewakneet\\documents\\project-genai\\myenv\\lib\\site-packages (from langsmith>=0.1.125->langchain-community) (3.11.3)\n",
      "Requirement already satisfied: requests-toolbelt>=1.0.0 in c:\\users\\gursewakneet\\documents\\project-genai\\myenv\\lib\\site-packages (from langsmith>=0.1.125->langchain-community) (1.0.0)\n",
      "Requirement already satisfied: zstandard>=0.23.0 in c:\\users\\gursewakneet\\documents\\project-genai\\myenv\\lib\\site-packages (from langsmith>=0.1.125->langchain-community) (0.24.0)\n",
      "Requirement already satisfied: anyio in c:\\users\\gursewakneet\\documents\\project-genai\\myenv\\lib\\site-packages (from httpx<1,>=0.23.0->langsmith>=0.1.125->langchain-community) (4.10.0)\n",
      "Requirement already satisfied: httpcore==1.* in c:\\users\\gursewakneet\\documents\\project-genai\\myenv\\lib\\site-packages (from httpx<1,>=0.23.0->langsmith>=0.1.125->langchain-community) (1.0.9)\n",
      "Requirement already satisfied: h11>=0.16 in c:\\users\\gursewakneet\\documents\\project-genai\\myenv\\lib\\site-packages (from httpcore==1.*->httpx<1,>=0.23.0->langsmith>=0.1.125->langchain-community) (0.16.0)\n",
      "Requirement already satisfied: exceptiongroup>=1.0.2 in c:\\users\\gursewakneet\\documents\\project-genai\\myenv\\lib\\site-packages (from anyio->httpx<1,>=0.23.0->langsmith>=0.1.125->langchain-community) (1.3.0)\n",
      "Requirement already satisfied: sniffio>=1.1 in c:\\users\\gursewakneet\\documents\\project-genai\\myenv\\lib\\site-packages (from anyio->httpx<1,>=0.23.0->langsmith>=0.1.125->langchain-community) (1.3.1)\n",
      "Note: you may need to restart the kernel to use updated packages.\n"
     ]
    }
   ],
   "source": [
    "%pip install langchain-community"
   ]
  },
  {
   "cell_type": "code",
   "execution_count": 10,
   "id": "3b168acc",
   "metadata": {},
   "outputs": [
    {
     "name": "stdout",
     "output_type": "stream",
     "text": [
      "MODEL S OWNER'S MANUAL\n",
      "8.0\n"
     ]
    }
   ],
   "source": [
    "from langchain_community.document_loaders import PyMuPDFLoader , DirectoryLoader\n",
    "file_path= \"../Data/pdf\"\n",
    "dir_loader= DirectoryLoader(file_path, glob=\"**/*.pdf\", loader_cls=PyMuPDFLoader , )\n",
    "\n",
    "data = dir_loader.load()\n",
    "print(data[0].page_content)"
   ]
  },
  {
   "cell_type": "code",
   "execution_count": 11,
   "id": "0de8a3ad",
   "metadata": {},
   "outputs": [
    {
     "name": "stdout",
     "output_type": "stream",
     "text": [
      "c:\\Users\\GursewakNeet\\Documents\\project-genai\\notebooks\n"
     ]
    }
   ],
   "source": [
    "import os\n",
    "print(os.getcwd())\n"
   ]
  }
 ],
 "metadata": {
  "kernelspec": {
   "display_name": "myenv (3.10.11)",
   "language": "python",
   "name": "python3"
  },
  "language_info": {
   "codemirror_mode": {
    "name": "ipython",
    "version": 3
   },
   "file_extension": ".py",
   "mimetype": "text/x-python",
   "name": "python",
   "nbconvert_exporter": "python",
   "pygments_lexer": "ipython3",
   "version": "3.10.11"
  }
 },
 "nbformat": 4,
 "nbformat_minor": 5
}
