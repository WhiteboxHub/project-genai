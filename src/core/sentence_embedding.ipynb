{
 "cells": [
  {
   "cell_type": "code",
   "execution_count": 3,
   "id": "7c1a3960",
   "metadata": {},
   "outputs": [],
   "source": [
    "class embed_model:\n",
    "    @staticmethod\n",
    "    def sentence_Transfoer():\n",
    "        from sentence_transformers import SentenceTransformer\n",
    "        from sentence_transformers import util\n",
    "\n",
    "        # Load a pre-trained model\n",
    "        model = SentenceTransformer(\"all-MiniLM-L6-v2\")\n",
    "\n",
    "        sentences = [\n",
    "            \"The weather is lovely today.\",\n",
    "            \"It's so sunny outside!\",\n",
    "            \"A man is eating a piece of bread.\",\n",
    "            \"A woman is playing the violin.\"\n",
    "        ]\n",
    "\n",
    "        # Get sentence embeddings\n",
    "        embeddings = model.encode(sentences)\n",
    "\n",
    "        # Print the shape of the embeddings\n",
    "        print(embeddings.shape)\n",
    "        # Expected output: (4, 384)\n",
    "        # This means 4 sentences were encoded into vectors of 384 dimensions.\n",
    "\n",
    "        # A query sentence\n",
    "        query_sentence = \"What is the weather like?\"\n",
    "\n",
    "        # Encode the query sentence\n",
    "        query_embedding = model.encode(query_sentence)\n",
    "\n",
    "        # Calculate cosine similarities between the query and all sentences\n",
    "        similarities = util.cos_sim(query_embedding, embeddings)\n",
    "\n",
    "        # Get the top 2 most similar results\n",
    "        top_results_indices = similarities[0].argsort(descending=True)[:2]\n",
    "        print(\"\\nMost similar sentences:\")\n",
    "\n",
    "        for index in top_results_indices:\n",
    "            print(f\"- {sentences[index]} (Score: {similarities[0][index]:.4f})\")\n",
    "\n",
    "        # Expected output:\n",
    "        # - The weather is lovely today. (Score: 0.7354)\n",
    "        # - It's so sunny outside! (Score: 0.6634)"
   ]
  },
  {
   "cell_type": "code",
   "execution_count": 4,
   "id": "c844117f",
   "metadata": {},
   "outputs": [
    {
     "name": "stdout",
     "output_type": "stream",
     "text": [
      "(4, 384)\n",
      "\n",
      "Most similar sentences:\n",
      "- The weather is lovely today. (Score: 0.6180)\n",
      "- It's so sunny outside! (Score: 0.5083)\n"
     ]
    }
   ],
   "source": [
    "if __name__ == \"__main__\":\n",
    "    embed_model.sentence_Transfoer()"
   ]
  }
 ],
 "metadata": {
  "kernelspec": {
   "display_name": "venv",
   "language": "python",
   "name": "python3"
  },
  "language_info": {
   "codemirror_mode": {
    "name": "ipython",
    "version": 3
   },
   "file_extension": ".py",
   "mimetype": "text/x-python",
   "name": "python",
   "nbconvert_exporter": "python",
   "pygments_lexer": "ipython3",
   "version": "3.9.6"
  }
 },
 "nbformat": 4,
 "nbformat_minor": 5
}
