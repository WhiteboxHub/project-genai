{
 "cells": [
  {
   "cell_type": "code",
   "execution_count": null,
   "id": "5c764664",
   "metadata": {},
   "outputs": [
    {
     "name": "stdout",
     "output_type": "stream",
     "text": [
      "Chunk 1: Natural Language Processing is an exciting field.\n",
      "Chunk 2: It enables machines to understand human language.\n",
      "Chunk 3: Many applications rely on NLP for automation.\n"
     ]
    },
    {
     "name": "stderr",
     "output_type": "stream",
     "text": [
      "[nltk_data] Downloading package punkt to /Users/sharvani/nltk_data...\n",
      "[nltk_data]   Package punkt is already up-to-date!\n"
     ]
    }
   ],
   "source": [
    "#  Sentence chunking using nltk library\n",
    "import nltk\n",
    "from nltk.tokenize import sent_tokenize\n",
    "\n",
    "nltk.download('punkt')\n",
    "def sentence_based_chunking(text):\n",
    "    return sent_tokenize(text)\n",
    "\n",
    "# Sample text\n",
    "txt = \"Natural Language Processing is an exciting field. It enables machines to understand human language. Many applications rely on NLP for automation.\"\n",
    "\n",
    "# Chunking sentences\n",
    "chunks = sentence_based_chunking(txt)\n",
    "for i, chunk in enumerate(chunks):\n",
    "    print(f\"Chunk {i+1}: {chunk}\")\n",
    "\n",
    "    "
   ]
  }
 ],
 "metadata": {
  "kernelspec": {
   "display_name": "venv",
   "language": "python",
   "name": "python3"
  },
  "language_info": {
   "codemirror_mode": {
    "name": "ipython",
    "version": 3
   },
   "file_extension": ".py",
   "mimetype": "text/x-python",
   "name": "python",
   "nbconvert_exporter": "python",
   "pygments_lexer": "ipython3",
   "version": "3.9.6"
  }
 },
 "nbformat": 4,
 "nbformat_minor": 5
}
