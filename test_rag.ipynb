{
 "cells": [
  {
   "cell_type": "code",
   "execution_count": 1,
   "id": "1b800c7e",
   "metadata": {},
   "outputs": [
    {
     "name": "stderr",
     "output_type": "stream",
     "text": [
      "i:\\IP-taskpipline\\project-genai\\myenv\\lib\\site-packages\\tqdm\\auto.py:21: TqdmWarning: IProgress not found. Please update jupyter and ipywidgets. See https://ipywidgets.readthedocs.io/en/stable/user_install.html\n",
      "  from .autonotebook import tqdm as notebook_tqdm\n"
     ]
    }
   ],
   "source": [
    "from src.core.data_loading import Data_loading\n",
    "from src.core.embeding import sentence_transformer_embeding_model,Huggginface_model\n",
    "from src.core.chunking import text_chunking"
   ]
  },
  {
   "cell_type": "code",
   "execution_count": 2,
   "id": "b34c8b6e",
   "metadata": {},
   "outputs": [
    {
     "name": "stderr",
     "output_type": "stream",
     "text": [
      "100%|██████████| 75/75 [00:01<00:00, 44.92it/s]\n"
     ]
    }
   ],
   "source": [
    "file_path = \"./Data/langchain.pdf\"\n",
    "file_text = Data_loading.local_data_loading(file_path)\n",
    "file_text_chunk = text_chunking.recursive_text_splitter(file_text,150,15)\n",
    "\n",
    "embed_model = sentence_transformer_embeding_model()\n",
    "s = embed_model.embed_documents(file_text_chunk)"
   ]
  },
  {
   "cell_type": "code",
   "execution_count": 3,
   "id": "d71dfea0",
   "metadata": {},
   "outputs": [
    {
     "name": "stderr",
     "output_type": "stream",
     "text": [
      "100%|██████████| 75/75 [00:01<00:00, 45.46it/s]\n"
     ]
    }
   ],
   "source": [
    "e = Huggginface_model()\n",
    "m = e.embed_documents(file_text_chunk)"
   ]
  },
  {
   "cell_type": "code",
   "execution_count": 4,
   "id": "5cf18456",
   "metadata": {},
   "outputs": [
    {
     "name": "stdout",
     "output_type": "stream",
     "text": [
      "{'auto_id': False, 'description': '', 'fields': [{'name': 'pk', 'description': '', 'type': <DataType.VARCHAR: 21>, 'params': {'max_length': 100}, 'is_primary': True, 'auto_id': False}], 'enable_dynamic_field': True}\n",
      "{'auto_id': False, 'description': '', 'fields': [{'name': 'pk', 'description': '', 'type': <DataType.VARCHAR: 21>, 'params': {'max_length': 100}, 'is_primary': True, 'auto_id': False}, {'name': 'embeddings', 'description': '', 'type': <DataType.FLOAT_VECTOR: 101>, 'params': {'dim': 384}}], 'enable_dynamic_field': True}\n",
      "{'auto_id': False, 'description': '', 'fields': [{'name': 'pk', 'description': '', 'type': <DataType.VARCHAR: 21>, 'params': {'max_length': 100}, 'is_primary': True, 'auto_id': False}, {'name': 'embeddings', 'description': '', 'type': <DataType.FLOAT_VECTOR: 101>, 'params': {'dim': 384}}, {'name': 'text', 'description': '', 'type': <DataType.VARCHAR: 21>, 'params': {'max_length': 800}}], 'enable_dynamic_field': True}\n",
      "{'field_name': 'embeddings', 'metric_type': 'COSINE', 'index_type': 'IVF_FLAT', 'index_name': 'vector_index', 'params': {'nlist': 128}}\n"
     ]
    }
   ],
   "source": [
    "from src.core.storing import Milvus\n",
    "from src.utils.indexing_util import index_field_data,milvus_indexes\n",
    "\n",
    "m_client = Milvus()\n",
    "# m_client.create_database(\"testdb\")\n",
    "# m_client.list_db()\n",
    "# index_type = \"SPARSE_INVERTED_INDEX\"\n",
    "index_type = \"IVF_FLAT\"\n",
    "m_client.create_schema(index_field_data,index_type,True)"
   ]
  },
  {
   "cell_type": "code",
   "execution_count": 5,
   "id": "a9ae0a93",
   "metadata": {},
   "outputs": [
    {
     "name": "stdout",
     "output_type": "stream",
     "text": [
      "inserted data {'insert_count': 75, 'ids': ['6ee5a8a1-2e2c-493d-87ac-1b855fb93350', 'b2f5de52-1b72-4fc8-a6ee-10efb5d046ce', '047e27fb-32f0-4be7-b5c6-21de81ef346c', '20845163-1ff0-44f0-a2b2-5146f5301cdf', 'c9667506-5160-4e23-aefc-99d3eb9cc452', '50bba1e9-22b5-4015-b17a-797e948c6270', '07adb290-613c-4711-a43a-7d6308372ab1', '72799755-830b-4307-8b79-adced4a2e2ae', '73c00e98-40aa-4665-a695-438402e24c3a', '35a053d9-901e-4dd3-9dbe-b063f518315a', '6e14c2cb-9863-4608-85c0-b3ec2b3bfb35', '1770d058-419d-4c74-9c8d-f04973842a3e', '9f407fd8-d0ab-432e-9ccf-b8014aaabaf4', 'f4df61a1-9ba0-4b9e-8c75-316b7160b232', '1202987c-5ce2-4088-8f82-bad1a131d24c', 'f3b8f935-e282-4156-a184-c0d60c33fbc9', '918f34dd-f3d7-4eec-a8ce-2fafb17fc76c', '5ad054b1-3362-49b5-b1c2-6911c86bec6d', '20b9d916-9507-43fa-8d53-8c025140935a', 'a208ea92-0e31-4f29-b630-102b612c14f5', 'b4414449-e926-474c-ba3c-619f71a20a5b', '06c17edc-397e-4e65-937b-c2fdbdb0445c', '655dea4a-59cf-43d1-8708-7f58fd1d7457', '38d9fcce-e189-46d0-a8df-a57f8e5d3c7d', '35bbbed4-c53e-464c-95a8-4ee70e47eb12', '4c958d59-3726-4a73-9592-26e6c0d3d6f7', 'aeb6ebea-162c-4859-b231-5b8a8c71e700', '6a88ffb4-9192-4a98-bb08-dc72ffe967f2', 'f05da1f1-8e2b-45f8-bc2c-52452cf216b5', '5f66e2be-fd8a-4194-8723-e9639f15b8ed', '3d67c1db-d4ba-4872-ba13-6a7966b4336d', '880a0971-87c2-47e2-9f7c-ca4f87493648', 'b66fc617-fa63-4e81-b2a7-c667d9bd8f75', '19e03627-d432-418e-b2ef-892f00a741ca', 'd3bdf005-882f-4877-bd9d-8adb86d47e08', 'fcf6c3f7-75dc-488f-a12e-c184f57330ff', 'd21bbcbd-c6a6-4bb6-9e45-125780feb8c8', '04c31ab9-3e09-417f-b0ed-b2b72755a5e8', 'fd77c6e8-0a80-472d-85e6-15e875adfda4', '663cf8cd-77b2-4b4c-9bb9-a4b02d8b2769', '51e1476c-6c22-4409-87dd-d9b0130f1dba', 'edd66473-b232-468f-bd79-f4114c01483b', '44d9aa4f-a7f8-4b62-a206-500078bd81ad', 'f46f6ccd-651a-4a43-8e7e-17f025d5c205', 'a6b01df7-899a-45c8-8d7a-92fb773f1587', '0df89d1b-6e5c-42d2-9c4d-455c2f20acfd', '7030bab1-2d80-4b6b-907a-89850144e29a', '7499bab5-dcc7-466d-9294-02b8cb283ed4', 'b2539c40-8020-46f5-a076-f841c571f560', '3e1acda8-790a-456e-9da7-66545fe135cd', '68a364c6-8a22-4643-abb4-70b31770cb8a', 'eb291a57-2fc5-45d8-953d-db33e83f216a', 'e7fb01e6-fa82-4d97-a416-3666ff723e4a', '49b2445c-28f7-4a76-becc-8b950fb17d55', 'c81eb690-8abd-4e4e-be82-86071cb1bcd6', 'caaabe6c-41e1-4fef-b813-3dc96db4100b', '0a2d13cb-856b-4be0-9b42-5741a2c98309', 'a15d6ea9-7d1c-49a7-acd2-1cc3d7326791', 'f75a866a-9b09-4a2b-bdc7-63a73b3a6b75', '08a806ee-4942-43c3-a3e6-168f32dda066', 'db233402-6902-4ee4-969d-55038a3e0025', 'e0ae5aca-a79b-45ce-a393-d8591391e7f8', '99e4c7e9-a313-41a9-b84b-7d023eda91db', '646d8a5c-0420-4e82-8d6d-14a45ddde52f', 'e587e6e3-8338-4d41-88b2-407f0c9901b9', 'ec44746f-196a-495d-bcef-f066b8c41995', '2540db85-395e-4236-9cd9-99a427326f62', 'a0291ce5-53e2-4e9e-82fb-4c1d85b7f1c4', '62027522-5113-44aa-ac2a-fe8893bc3ad5', 'aa11ba10-6599-4f91-a619-907da2093e95', 'bbeb7a31-e4b3-4278-86ef-eaf634053d05', '58966f02-ca3d-4b1b-8994-524864f7c576', '6997dad3-cf11-4130-816f-0ec74e370295', 'dcaa7b2d-b235-4d61-b83f-7683af5889c2', '3ab55d5f-127d-421b-afd4-de6eb68f4a28']}\n"
     ]
    },
    {
     "data": {
      "text/plain": [
       "{'insert_count': 75, 'ids': ['6ee5a8a1-2e2c-493d-87ac-1b855fb93350', 'b2f5de52-1b72-4fc8-a6ee-10efb5d046ce', '047e27fb-32f0-4be7-b5c6-21de81ef346c', '20845163-1ff0-44f0-a2b2-5146f5301cdf', 'c9667506-5160-4e23-aefc-99d3eb9cc452', '50bba1e9-22b5-4015-b17a-797e948c6270', '07adb290-613c-4711-a43a-7d6308372ab1', '72799755-830b-4307-8b79-adced4a2e2ae', '73c00e98-40aa-4665-a695-438402e24c3a', '35a053d9-901e-4dd3-9dbe-b063f518315a', '6e14c2cb-9863-4608-85c0-b3ec2b3bfb35', '1770d058-419d-4c74-9c8d-f04973842a3e', '9f407fd8-d0ab-432e-9ccf-b8014aaabaf4', 'f4df61a1-9ba0-4b9e-8c75-316b7160b232', '1202987c-5ce2-4088-8f82-bad1a131d24c', 'f3b8f935-e282-4156-a184-c0d60c33fbc9', '918f34dd-f3d7-4eec-a8ce-2fafb17fc76c', '5ad054b1-3362-49b5-b1c2-6911c86bec6d', '20b9d916-9507-43fa-8d53-8c025140935a', 'a208ea92-0e31-4f29-b630-102b612c14f5', 'b4414449-e926-474c-ba3c-619f71a20a5b', '06c17edc-397e-4e65-937b-c2fdbdb0445c', '655dea4a-59cf-43d1-8708-7f58fd1d7457', '38d9fcce-e189-46d0-a8df-a57f8e5d3c7d', '35bbbed4-c53e-464c-95a8-4ee70e47eb12', '4c958d59-3726-4a73-9592-26e6c0d3d6f7', 'aeb6ebea-162c-4859-b231-5b8a8c71e700', '6a88ffb4-9192-4a98-bb08-dc72ffe967f2', 'f05da1f1-8e2b-45f8-bc2c-52452cf216b5', '5f66e2be-fd8a-4194-8723-e9639f15b8ed', '3d67c1db-d4ba-4872-ba13-6a7966b4336d', '880a0971-87c2-47e2-9f7c-ca4f87493648', 'b66fc617-fa63-4e81-b2a7-c667d9bd8f75', '19e03627-d432-418e-b2ef-892f00a741ca', 'd3bdf005-882f-4877-bd9d-8adb86d47e08', 'fcf6c3f7-75dc-488f-a12e-c184f57330ff', 'd21bbcbd-c6a6-4bb6-9e45-125780feb8c8', '04c31ab9-3e09-417f-b0ed-b2b72755a5e8', 'fd77c6e8-0a80-472d-85e6-15e875adfda4', '663cf8cd-77b2-4b4c-9bb9-a4b02d8b2769', '51e1476c-6c22-4409-87dd-d9b0130f1dba', 'edd66473-b232-468f-bd79-f4114c01483b', '44d9aa4f-a7f8-4b62-a206-500078bd81ad', 'f46f6ccd-651a-4a43-8e7e-17f025d5c205', 'a6b01df7-899a-45c8-8d7a-92fb773f1587', '0df89d1b-6e5c-42d2-9c4d-455c2f20acfd', '7030bab1-2d80-4b6b-907a-89850144e29a', '7499bab5-dcc7-466d-9294-02b8cb283ed4', 'b2539c40-8020-46f5-a076-f841c571f560', '3e1acda8-790a-456e-9da7-66545fe135cd', '68a364c6-8a22-4643-abb4-70b31770cb8a', 'eb291a57-2fc5-45d8-953d-db33e83f216a', 'e7fb01e6-fa82-4d97-a416-3666ff723e4a', '49b2445c-28f7-4a76-becc-8b950fb17d55', 'c81eb690-8abd-4e4e-be82-86071cb1bcd6', 'caaabe6c-41e1-4fef-b813-3dc96db4100b', '0a2d13cb-856b-4be0-9b42-5741a2c98309', 'a15d6ea9-7d1c-49a7-acd2-1cc3d7326791', 'f75a866a-9b09-4a2b-bdc7-63a73b3a6b75', '08a806ee-4942-43c3-a3e6-168f32dda066', 'db233402-6902-4ee4-969d-55038a3e0025', 'e0ae5aca-a79b-45ce-a393-d8591391e7f8', '99e4c7e9-a313-41a9-b84b-7d023eda91db', '646d8a5c-0420-4e82-8d6d-14a45ddde52f', 'e587e6e3-8338-4d41-88b2-407f0c9901b9', 'ec44746f-196a-495d-bcef-f066b8c41995', '2540db85-395e-4236-9cd9-99a427326f62', 'a0291ce5-53e2-4e9e-82fb-4c1d85b7f1c4', '62027522-5113-44aa-ac2a-fe8893bc3ad5', 'aa11ba10-6599-4f91-a619-907da2093e95', 'bbeb7a31-e4b3-4278-86ef-eaf634053d05', '58966f02-ca3d-4b1b-8994-524864f7c576', '6997dad3-cf11-4130-816f-0ec74e370295', 'dcaa7b2d-b235-4d61-b83f-7683af5889c2', '3ab55d5f-127d-421b-afd4-de6eb68f4a28'], 'cost': 0}"
      ]
     },
     "execution_count": 5,
     "metadata": {},
     "output_type": "execute_result"
    }
   ],
   "source": [
    "m_client.insert_data(file_text_chunk,s)"
   ]
  },
  {
   "cell_type": "code",
   "execution_count": null,
   "id": "4af53bc8",
   "metadata": {},
   "outputs": [],
   "source": []
  },
  {
   "cell_type": "code",
   "execution_count": null,
   "id": "439e43b5",
   "metadata": {},
   "outputs": [],
   "source": []
  }
 ],
 "metadata": {
  "kernelspec": {
   "display_name": "myenv (3.10.5)",
   "language": "python",
   "name": "python3"
  },
  "language_info": {
   "codemirror_mode": {
    "name": "ipython",
    "version": 3
   },
   "file_extension": ".py",
   "mimetype": "text/x-python",
   "name": "python",
   "nbconvert_exporter": "python",
   "pygments_lexer": "ipython3",
   "version": "3.10.5"
  }
 },
 "nbformat": 4,
 "nbformat_minor": 5
}
